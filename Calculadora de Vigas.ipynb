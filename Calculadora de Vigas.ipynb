{
 "cells": [
  {
   "cell_type": "markdown",
   "metadata": {},
   "source": [
    "# Calculadora de vigas - Andrés Felipe Cuscagua López\n",
    "\n",
    "- Profesor: ----\n",
    "- Materia: ---"
   ]
  },
  {
   "cell_type": "markdown",
   "metadata": {},
   "source": [
    "### Paquetes utilizados"
   ]
  },
  {
   "cell_type": "code",
   "execution_count": 2,
   "metadata": {
    "collapsed": true
   },
   "outputs": [],
   "source": [
    "import numpy as np                 # Paquete para operar matrices usado en python\n",
    "import alphas3Momentos as tablas   # Modulo que tiene las formulas de los 3 momentos para los alphas (desarrollado)\n",
    "import Viga                        # Modulo para crear la estructura de datos \"Viga\" (desarrollado)\n",
    "from diagramas import graficador   # Modulo para graficar los momentos de la viga (desarrollado)"
   ]
  },
  {
   "cell_type": "markdown",
   "metadata": {},
   "source": [
    "### Se crea una viga y se pasa la información de cada tramo."
   ]
  },
  {
   "cell_type": "code",
   "execution_count": null,
   "metadata": {
    "collapsed": true
   },
   "outputs": [],
   "source": [
    "Mi_viga = Viga.Viga()\n",
    "Mi_viga.definir_tramos()"
   ]
  },
  {
   "cell_type": "code",
   "execution_count": null,
   "metadata": {
    "scrolled": false
   },
   "outputs": [],
   "source": [
    "Tramos = Mi_viga.tramos\n",
    "Tramos"
   ]
  },
  {
   "cell_type": "markdown",
   "metadata": {},
   "source": [
    "### Se calculan los momentos"
   ]
  },
  {
   "cell_type": "code",
   "execution_count": null,
   "metadata": {},
   "outputs": [],
   "source": [
    "momentos = Viga.calcular_momentos(Tramos)\n",
    "momentos"
   ]
  },
  {
   "cell_type": "markdown",
   "metadata": {},
   "source": [
    "### Se calculan las reacciones"
   ]
  },
  {
   "cell_type": "code",
   "execution_count": null,
   "metadata": {
    "scrolled": false
   },
   "outputs": [],
   "source": [
    "Rs = Viga.obtener_Rs(Tramos, momentos)\n",
    "Rs"
   ]
  },
  {
   "cell_type": "markdown",
   "metadata": {},
   "source": [
    "### Se definen las condiciones en cada tramo de la viga para graficar los momentos"
   ]
  },
  {
   "cell_type": "code",
   "execution_count": 3,
   "metadata": {
    "scrolled": true
   },
   "outputs": [
    {
     "name": "stdout",
     "output_type": "stream",
     "text": [
      "Escriba el tipo de la carga/reaccion 1: puntual\n",
      "Escriba la magnitud de la carga/reaccion: 1\n",
      "Escriba la longitud de la carga/reaccion: 0\n",
      "Hay mas trozos?: si\n",
      "\n",
      "\n",
      "Escriba el tipo de la carga/reaccion 2: distribuida\n",
      "Escriba la magnitud de la carga/reaccion: 2\n",
      "Escriba la longitud de la carga/reaccion: 2\n",
      "Hay mas trozos?: si\n",
      "\n",
      "\n",
      "Escriba el tipo de la carga/reaccion 3: reaccion\n",
      "Escriba la magnitud de la carga/reaccion: 8.361\n",
      "Escriba la longitud de la carga/reaccion: 0\n",
      "Hay mas trozos?: si\n",
      "\n",
      "\n",
      "Escriba el tipo de la carga/reaccion 4: nada\n",
      "Escriba la magnitud de la carga/reaccion: 0\n",
      "Escriba la longitud de la carga/reaccion: 3\n",
      "Hay mas trozos?: si\n",
      "\n",
      "\n",
      "Escriba el tipo de la carga/reaccion 5: puntual\n",
      "Escriba la magnitud de la carga/reaccion: 3\n",
      "Escriba la longitud de la carga/reaccion: 0\n",
      "Hay mas trozos?: si\n",
      "\n",
      "\n",
      "Escriba el tipo de la carga/reaccion 6: distribuida\n",
      "Escriba la magnitud de la carga/reaccion: 2\n",
      "Escriba la longitud de la carga/reaccion: 3\n",
      "Hay mas trozos?: si\n",
      "\n",
      "\n",
      "Escriba el tipo de la carga/reaccion 7: reaccion\n",
      "Escriba la magnitud de la carga/reaccion: 8.038\n",
      "Escriba la longitud de la carga/reaccion: 0\n",
      "Hay mas trozos?: si\n",
      "\n",
      "\n",
      "Escriba el tipo de la carga/reaccion 8: nada\n",
      "Escriba la magnitud de la carga/reaccion: 0\n",
      "Escriba la longitud de la carga/reaccion: 2\n",
      "Hay mas trozos?: si\n",
      "\n",
      "\n",
      "Escriba el tipo de la carga/reaccion 9: puntual\n",
      "Escriba la magnitud de la carga/reaccion: 4\n",
      "Escriba la longitud de la carga/reaccion: 0\n",
      "Hay mas trozos?: si\n",
      "\n",
      "\n",
      "Escriba el tipo de la carga/reaccion 10: nada\n",
      "Escriba la magnitud de la carga/reaccion: 0\n",
      "Escriba la longitud de la carga/reaccion: 3\n",
      "Hay mas trozos?: si\n",
      "\n",
      "\n",
      "Escriba el tipo de la carga/reaccion 11: reaccion\n",
      "Escriba la magnitud de la carga/reaccion: 7.371\n",
      "Escriba la longitud de la carga/reaccion: 0\n",
      "Hay mas trozos?: si\n",
      "\n",
      "\n",
      "Escriba el tipo de la carga/reaccion 12: distribuida\n",
      "Escriba la magnitud de la carga/reaccion: 2\n",
      "Escriba la longitud de la carga/reaccion: 2\n",
      "Hay mas trozos?: si\n",
      "\n",
      "\n",
      "Escriba el tipo de la carga/reaccion 13: reaccion\n",
      "Escriba la magnitud de la carga/reaccion: 4.231\n",
      "Escriba la longitud de la carga/reaccion: 0\n",
      "Hay mas trozos?: no\n",
      "\n",
      "\n"
     ]
    }
   ],
   "source": [
    "Graficas = graficador()"
   ]
  },
  {
   "cell_type": "markdown",
   "metadata": {},
   "source": [
    "### Gráfica de Momentos"
   ]
  },
  {
   "cell_type": "code",
   "execution_count": 5,
   "metadata": {},
   "outputs": [
    {
     "data": {
      "image/png": "[encoded data removed]",
      "text/plain": [
       "<matplotlib.figure.Figure at 0x1c5284ee160>"
      ]
     },
     "metadata": {},
     "output_type": "display_data"
    }
   ],
   "source": [
    "Graficas.grafica_1()"
   ]
  }
 ],
 "metadata": {
  "kernelspec": {
   "display_name": "Python 3",
   "language": "python",
   "name": "python3"
  },
  "language_info": {
   "codemirror_mode": {
    "name": "ipython",
    "version": 3
   },
   "file_extension": ".py",
   "mimetype": "text/x-python",
   "name": "python",
   "nbconvert_exporter": "python",
   "pygments_lexer": "ipython3",
   "version": "3.6.1"
  }
 },
 "nbformat": 4,
 "nbformat_minor": 2
}
