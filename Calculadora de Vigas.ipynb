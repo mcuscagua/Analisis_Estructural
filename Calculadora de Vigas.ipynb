{
 "cells": [
  {
   "cell_type": "markdown",
   "metadata": {},
   "source": [
    "# Calculadora de vigas - Andrés Felipe Cuscagua López\n",
    "\n",
    "- Profesor: Jorge Eliecer Campuzano\n",
    "- Materia: Analisis Estructural"
   ]
  },
  {
   "cell_type": "markdown",
   "metadata": {},
   "source": [
    "### Paquetes utilizados"
   ]
  },
  {
   "cell_type": "code",
   "execution_count": 1,
   "metadata": {
    "collapsed": true
   },
   "outputs": [],
   "source": [
    "import numpy as np                 # Paquete para operar matrices usado en python\n",
    "import alphas3Momentos as tablas   # Modulo que tiene las formulas de los 3 momentos para los alphas (desarrollado)\n",
    "import Viga                        # Modulo para crear la estructura de datos \"Viga\" (desarrollado)\n",
    "from diagramas import graficador   # Modulo para graficar los momentos de la viga (desarrollado)"
   ]
  },
  {
   "cell_type": "markdown",
   "metadata": {},
   "source": [
    "### Se crea una viga y se pasa la información de cada tramo."
   ]
  },
  {
   "cell_type": "code",
   "execution_count": 2,
   "metadata": {},
   "outputs": [
    {
     "name": "stdout",
     "output_type": "stream",
     "text": [
      "Es un voladizo? no\n",
      "Es un empotramiento? no\n",
      "Cuantas cargas hay en el tramo? 2\n",
      "Escriba el tipo de la carga 1 puntual\n",
      "Escriba la magnitud de la carga 4\n",
      "Escriba la distancia de la carga al extremo izquierdo del tramo 3\n",
      "----\n",
      "Escriba el tipo de la carga 2 distribuida\n",
      "Escriba la magnitud de la carga 1\n",
      "Escriba la distancia de la carga al extremo izquierdo del tramo 0\n",
      "Escriba la longitud de la carga 5\n",
      "----\n",
      "Escriba la longitud del tramo 5\n",
      "Hay mas tramos? si\n",
      "----\n",
      "----\n",
      "\n",
      "\n",
      "Es un voladizo? no\n",
      "Es un empotramiento? no\n",
      "Cuantas cargas hay en el tramo? 2\n",
      "Escriba el tipo de la carga 1 puntual\n",
      "Escriba la magnitud de la carga 6\n",
      "Escriba la distancia de la carga al extremo izquierdo del tramo 2\n",
      "----\n",
      "Escriba el tipo de la carga 2 distribuida\n",
      "Escriba la magnitud de la carga 2\n",
      "Escriba la distancia de la carga al extremo izquierdo del tramo 0\n",
      "Escriba la longitud de la carga 4\n",
      "----\n",
      "Escriba la longitud del tramo 4\n",
      "Hay mas tramos? no\n",
      "----\n",
      "----\n",
      "\n",
      "\n"
     ]
    }
   ],
   "source": [
    "Mi_viga = Viga.Viga()\n",
    "Mi_viga.definir_tramos()"
   ]
  },
  {
   "cell_type": "code",
   "execution_count": 3,
   "metadata": {
    "scrolled": false
   },
   "outputs": [
    {
     "data": {
      "text/plain": [
       "[{'L': 5.0,\n",
       "  'cargas': {'carga 1': {'distancia': 3.0, 'magnitud': 4.0, 'tipo': 'puntual'},\n",
       "   'carga 2': {'distancia': 0.0,\n",
       "    'longitud': 5.0,\n",
       "    'magnitud': 1.0,\n",
       "    'tipo': 'distribuida'}},\n",
       "  'empotrado': 'no',\n",
       "  'n_cargas': 2,\n",
       "  'voladizo': 'no'},\n",
       " {'L': 4.0,\n",
       "  'cargas': {'carga 1': {'distancia': 2.0, 'magnitud': 6.0, 'tipo': 'puntual'},\n",
       "   'carga 2': {'distancia': 0.0,\n",
       "    'longitud': 4.0,\n",
       "    'magnitud': 2.0,\n",
       "    'tipo': 'distribuida'}},\n",
       "  'empotrado': 'no',\n",
       "  'n_cargas': 2,\n",
       "  'voladizo': 'no'}]"
      ]
     },
     "execution_count": 3,
     "metadata": {},
     "output_type": "execute_result"
    }
   ],
   "source": [
    "Tramos = Mi_viga.tramos\n",
    "Tramos"
   ]
  },
  {
   "cell_type": "markdown",
   "metadata": {},
   "source": [
    "### Se calculan los momentos"
   ]
  },
  {
   "cell_type": "code",
   "execution_count": 4,
   "metadata": {},
   "outputs": [
    {
     "data": {
      "text/plain": [
       "[0, -7.647222222222222, 0]"
      ]
     },
     "execution_count": 4,
     "metadata": {},
     "output_type": "execute_result"
    }
   ],
   "source": [
    "momentos = Viga.calcular_momentos(Tramos)\n",
    "momentos"
   ]
  },
  {
   "cell_type": "markdown",
   "metadata": {},
   "source": [
    "### Se calculan las reacciones"
   ]
  },
  {
   "cell_type": "code",
   "execution_count": 5,
   "metadata": {
    "scrolled": false
   },
   "outputs": [
    {
     "data": {
      "text/plain": [
       "array([  2.57055556,  15.34125   ,   5.08819444])"
      ]
     },
     "execution_count": 5,
     "metadata": {},
     "output_type": "execute_result"
    }
   ],
   "source": [
    "Rs = Viga.obtener_Rs(Tramos, momentos)\n",
    "Rs"
   ]
  },
  {
   "cell_type": "markdown",
   "metadata": {},
   "source": [
    "### Se definen las condiciones en cada tramo de la viga para graficar los momentos"
   ]
  },
  {
   "cell_type": "code",
   "execution_count": null,
   "metadata": {
    "collapsed": true,
    "scrolled": true
   },
   "outputs": [],
   "source": [
    "Graficas = graficador()"
   ]
  },
  {
   "cell_type": "markdown",
   "metadata": {},
   "source": [
    "### Gráfica de Momentos"
   ]
  },
  {
   "cell_type": "code",
   "execution_count": null,
   "metadata": {
    "collapsed": true
   },
   "outputs": [],
   "source": [
    "Graficas.grafica_1()"
   ]
  }
 ],
 "metadata": {
  "kernelspec": {
   "display_name": "Python 3",
   "language": "python",
   "name": "python3"
  },
  "language_info": {
   "codemirror_mode": {
    "name": "ipython",
    "version": 3
   },
   "file_extension": ".py",
   "mimetype": "text/x-python",
   "name": "python",
   "nbconvert_exporter": "python",
   "pygments_lexer": "ipython3",
   "version": "3.6.1"
  }
 },
 "nbformat": 4,
 "nbformat_minor": 2
}
