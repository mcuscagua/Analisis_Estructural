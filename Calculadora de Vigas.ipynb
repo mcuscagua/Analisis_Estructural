{
 "cells": [
  {
   "cell_type": "markdown",
   "metadata": {},
   "source": [
    "# Calculadora de vigas - Andrés Felipe Cuscagua López\n",
    "\n",
    "- Profesor: Jorge Eliecer Campuzano\n",
    "- Materia: Analisis Estructural"
   ]
  },
  {
   "cell_type": "markdown",
   "metadata": {},
   "source": [
    "### Paquetes utilizados"
   ]
  },
  {
   "cell_type": "code",
   "execution_count": 1,
   "metadata": {},
   "outputs": [],
   "source": [
    "import numpy as np                 # Paquete para operar matrices usado en python\n",
    "import alphas3Momentos as tablas   # Modulo que tiene las formulas de los 3 momentos para los alphas (desarrollado)\n",
    "import Viga                        # Modulo para crear la estructura de datos \"Viga\" (desarrollado)\n",
    "from diagramas import graficador   # Modulo para graficar los momentos de la viga (desarrollado)"
   ]
  },
  {
   "cell_type": "markdown",
   "metadata": {},
   "source": [
    "### Se crea una viga y se pasa la información de cada tramo."
   ]
  },
  {
   "cell_type": "code",
   "execution_count": 2,
   "metadata": {},
   "outputs": [
    {
     "name": "stdout",
     "output_type": "stream",
     "text": [
      "Es un voladizo? no\n",
      "Es un empotramiento? no\n",
      "Cuantas cargas hay en el tramo? 2\n",
      "Escriba el tipo de la carga 1 puntual\n",
      "Escriba la magnitud de la carga 4\n",
      "Escriba la distancia de la carga al extremo izquierdo del tramo 3\n",
      "----\n",
      "Escriba el tipo de la carga 2 distribuida\n",
      "Escriba la magnitud de la carga 1\n",
      "Escriba la distancia de la carga al extremo izquierdo del tramo 0\n",
      "Escriba la longitud de la carga 5\n",
      "----\n",
      "Escriba la longitud del tramo 5\n",
      "Hay mas tramos? si\n",
      "----\n",
      "----\n",
      "\n",
      "\n",
      "Es un voladizo? no\n",
      "Es un empotramiento? no\n",
      "Cuantas cargas hay en el tramo? 2\n",
      "Escriba el tipo de la carga 1 puntual\n",
      "Escriba la magnitud de la carga 6\n",
      "Escriba la distancia de la carga al extremo izquierdo del tramo 2\n",
      "----\n",
      "Escriba el tipo de la carga 2 distribuida\n",
      "Escriba la magnitud de la carga 2\n",
      "Escriba la distancia de la carga al extremo izquierdo del tramo 0\n",
      "Escriba la longitud de la carga 4\n",
      "----\n",
      "Escriba la longitud del tramo 4\n",
      "Hay mas tramos? no\n",
      "----\n",
      "----\n",
      "\n",
      "\n"
     ]
    }
   ],
   "source": [
    "Mi_viga = Viga.Viga()\n",
    "Mi_viga.definir_tramos()"
   ]
  },
  {
   "cell_type": "code",
   "execution_count": 3,
   "metadata": {
    "scrolled": false
   },
   "outputs": [
    {
     "data": {
      "text/plain": [
       "[{'voladizo': 'no',\n",
       "  'empotrado': 'no',\n",
       "  'cargas': {'carga 1': {'tipo': 'puntual', 'magnitud': 4.0, 'distancia': 3.0},\n",
       "   'carga 2': {'tipo': 'distribuida',\n",
       "    'magnitud': 1.0,\n",
       "    'distancia': 0.0,\n",
       "    'longitud': 5.0}},\n",
       "  'n_cargas': 2,\n",
       "  'L': 5.0},\n",
       " {'voladizo': 'no',\n",
       "  'empotrado': 'no',\n",
       "  'cargas': {'carga 1': {'tipo': 'puntual', 'magnitud': 6.0, 'distancia': 2.0},\n",
       "   'carga 2': {'tipo': 'distribuida',\n",
       "    'magnitud': 2.0,\n",
       "    'distancia': 0.0,\n",
       "    'longitud': 4.0}},\n",
       "  'n_cargas': 2,\n",
       "  'L': 4.0}]"
      ]
     },
     "execution_count": 3,
     "metadata": {},
     "output_type": "execute_result"
    }
   ],
   "source": [
    "Tramos = Mi_viga.tramos\n",
    "Tramos"
   ]
  },
  {
   "cell_type": "markdown",
   "metadata": {},
   "source": [
    "### Se calculan los momentos"
   ]
  },
  {
   "cell_type": "code",
   "execution_count": null,
   "metadata": {},
   "outputs": [],
   "source": []
  },
  {
   "cell_type": "code",
   "execution_count": 4,
   "metadata": {},
   "outputs": [
    {
     "data": {
      "text/plain": [
       "[0, -7.647222222222222, 0]"
      ]
     },
     "execution_count": 4,
     "metadata": {},
     "output_type": "execute_result"
    }
   ],
   "source": [
    "momentos = Viga.calcular_momentos(Tramos)\n",
    "momentos"
   ]
  },
  {
   "cell_type": "markdown",
   "metadata": {},
   "source": [
    "### Se calculan las reacciones"
   ]
  },
  {
   "cell_type": "code",
   "execution_count": 5,
   "metadata": {
    "scrolled": false
   },
   "outputs": [
    {
     "ename": "TypeError",
     "evalue": "only integer scalar arrays can be converted to a scalar index",
     "output_type": "error",
     "traceback": [
      "\u001b[1;31m---------------------------------------------------------------------------\u001b[0m",
      "\u001b[1;31mTypeError\u001b[0m                                 Traceback (most recent call last)",
      "\u001b[1;32m<ipython-input-5-2d3f2f7a5edb>\u001b[0m in \u001b[0;36m<module>\u001b[1;34m\u001b[0m\n\u001b[1;32m----> 1\u001b[1;33m \u001b[0mRs\u001b[0m \u001b[1;33m=\u001b[0m \u001b[0mViga\u001b[0m\u001b[1;33m.\u001b[0m\u001b[0mobtener_Rs\u001b[0m\u001b[1;33m(\u001b[0m\u001b[0mTramos\u001b[0m\u001b[1;33m,\u001b[0m \u001b[0mmomentos\u001b[0m\u001b[1;33m)\u001b[0m\u001b[1;33m\u001b[0m\u001b[1;33m\u001b[0m\u001b[0m\n\u001b[0m\u001b[0;32m      2\u001b[0m \u001b[0mRs\u001b[0m\u001b[1;33m\u001b[0m\u001b[1;33m\u001b[0m\u001b[0m\n",
      "\u001b[1;32m~\\Documents\\Analisis_Estructural\\Viga.py\u001b[0m in \u001b[0;36mobtener_Rs\u001b[1;34m(Tramos, momentos)\u001b[0m\n\u001b[0;32m    776\u001b[0m     \u001b[1;32melse\u001b[0m\u001b[1;33m:\u001b[0m\u001b[1;33m\u001b[0m\u001b[1;33m\u001b[0m\u001b[0m\n\u001b[0;32m    777\u001b[0m         \u001b[0mR\u001b[0m \u001b[1;33m=\u001b[0m \u001b[0mRs2\u001b[0m \u001b[1;33m+\u001b[0m \u001b[0mshift\u001b[0m\u001b[1;33m(\u001b[0m\u001b[0mRs1\u001b[0m\u001b[1;33m,\u001b[0m \u001b[1;33m-\u001b[0m\u001b[1;36m1\u001b[0m\u001b[1;33m)\u001b[0m\u001b[1;33m\u001b[0m\u001b[1;33m\u001b[0m\u001b[0m\n\u001b[1;32m--> 778\u001b[1;33m         \u001b[1;32mreturn\u001b[0m \u001b[0mnp\u001b[0m\u001b[1;33m.\u001b[0m\u001b[0mconcatenate\u001b[0m\u001b[1;33m(\u001b[0m\u001b[0mRs1\u001b[0m\u001b[1;33m[\u001b[0m\u001b[1;36m0\u001b[0m\u001b[1;33m]\u001b[0m\u001b[1;33m,\u001b[0m \u001b[0mR\u001b[0m\u001b[1;33m)\u001b[0m\u001b[1;33m\u001b[0m\u001b[1;33m\u001b[0m\u001b[0m\n\u001b[0m",
      "\u001b[1;31mTypeError\u001b[0m: only integer scalar arrays can be converted to a scalar index"
     ]
    }
   ],
   "source": [
    "Rs = Viga.obtener_Rs(Tramos, momentos)\n",
    "Rs"
   ]
  },
  {
   "cell_type": "markdown",
   "metadata": {},
   "source": [
    "### Se definen las condiciones en cada tramo de la viga para graficar los momentos"
   ]
  },
  {
   "cell_type": "code",
   "execution_count": null,
   "metadata": {
    "scrolled": true
   },
   "outputs": [],
   "source": [
    "Graficas = graficador()"
   ]
  },
  {
   "cell_type": "markdown",
   "metadata": {},
   "source": [
    "### Gráfica de Momentos"
   ]
  },
  {
   "cell_type": "code",
   "execution_count": null,
   "metadata": {},
   "outputs": [],
   "source": [
    "Graficas.grafica_1()"
   ]
  }
 ],
 "metadata": {
  "kernelspec": {
   "display_name": "Python 3",
   "language": "python",
   "name": "python3"
  },
  "language_info": {
   "codemirror_mode": {
    "name": "ipython",
    "version": 3
   },
   "file_extension": ".py",
   "mimetype": "text/x-python",
   "name": "python",
   "nbconvert_exporter": "python",
   "pygments_lexer": "ipython3",
   "version": "3.7.3"
  }
 },
 "nbformat": 4,
 "nbformat_minor": 2
}
