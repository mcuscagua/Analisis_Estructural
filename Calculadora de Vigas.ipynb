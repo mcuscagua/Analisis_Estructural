{
 "cells": [
  {
   "cell_type": "markdown",
   "metadata": {},
   "source": [
    "# Calculadora de vigas - Andrés Felipe Cuscagua López\n",
    "\n",
    "- Profesor: Jorge Eliecer Campuzano\n",
    "- Materia: Analisis Estructural"
   ]
  },
  {
   "cell_type": "markdown",
   "metadata": {},
   "source": [
    "### Paquetes utilizados"
   ]
  },
  {
   "cell_type": "code",
   "execution_count": 1,
   "metadata": {},
   "outputs": [],
   "source": [
    "import numpy as np                 # Paquete para operar matrices usado en python\n",
    "import alphas3Momentos as tablas   # Modulo que tiene las formulas de los 3 momentos para los alphas (desarrollado)\n",
    "import Viga                        # Modulo para crear la estructura de datos \"Viga\" (desarrollado)\n",
    "from diagramas import graficador   # Modulo para graficar los momentos de la viga (desarrollado)"
   ]
  },
  {
   "cell_type": "markdown",
   "metadata": {},
   "source": [
    "### Se crea una viga y se pasa la información de cada tramo."
   ]
  },
  {
   "cell_type": "code",
   "execution_count": 2,
   "metadata": {},
   "outputs": [
    {
     "name": "stdout",
     "output_type": "stream",
     "text": [
      "Es un voladizo? no\n",
      "Es un empotramiento? no\n",
      "Cuantas cargas hay en el tramo? 1\n",
      "Escriba el tipo de la carga 1 puntual\n",
      "Escriba la magnitud de la carga 5\n",
      "Escriba la distancia de la carga al extremo izquierdo del tramo 3\n",
      "----\n",
      "Escriba la longitud del tramo 8\n",
      "Hay mas tramos? si\n",
      "----\n",
      "----\n",
      "\n",
      "\n",
      "Es un voladizo? no\n",
      "Es un empotramiento? no\n",
      "Cuantas cargas hay en el tramo? 2\n",
      "Escriba el tipo de la carga 1 puntual\n",
      "Escriba la magnitud de la carga 15\n",
      "Escriba la distancia de la carga al extremo izquierdo del tramo 10\n",
      "----\n",
      "Escriba el tipo de la carga 2 distribuida\n",
      "Escriba la magnitud de la carga 4.5\n",
      "Escriba la distancia de la carga al extremo izquierdo del tramo 0\n",
      "Escriba la longitud de la carga 16\n",
      "----\n",
      "Escriba la longitud del tramo 16\n",
      "Hay mas tramos? no\n",
      "----\n",
      "----\n",
      "\n",
      "\n"
     ]
    }
   ],
   "source": [
    "Mi_viga = Viga.Viga()\n",
    "Mi_viga.definir_tramos()"
   ]
  },
  {
   "cell_type": "code",
   "execution_count": 3,
   "metadata": {
    "scrolled": false
   },
   "outputs": [
    {
     "data": {
      "text/plain": [
       "[{'voladizo': 'no',\n",
       "  'empotrado': 'no',\n",
       "  'cargas': {'carga 1': {'tipo': 'puntual',\n",
       "    'magnitud': 5.0,\n",
       "    'distancia': 3.0}},\n",
       "  'n_cargas': 1,\n",
       "  'L': 8.0},\n",
       " {'voladizo': 'no',\n",
       "  'empotrado': 'no',\n",
       "  'cargas': {'carga 1': {'tipo': 'puntual',\n",
       "    'magnitud': 15.0,\n",
       "    'distancia': 10.0},\n",
       "   'carga 2': {'tipo': 'distribuida',\n",
       "    'magnitud': 4.5,\n",
       "    'distancia': 0.0,\n",
       "    'longitud': 16.0}},\n",
       "  'n_cargas': 2,\n",
       "  'L': 16.0}]"
      ]
     },
     "execution_count": 3,
     "metadata": {},
     "output_type": "execute_result"
    }
   ],
   "source": [
    "Tramos = Mi_viga.tramos\n",
    "Tramos"
   ]
  },
  {
   "cell_type": "markdown",
   "metadata": {},
   "source": [
    "### Se calculan los momentos"
   ]
  },
  {
   "cell_type": "code",
   "execution_count": 4,
   "metadata": {},
   "outputs": [
    {
     "data": {
      "text/plain": [
       "[0, -123.9296875, 0]"
      ]
     },
     "execution_count": 4,
     "metadata": {},
     "output_type": "execute_result"
    }
   ],
   "source": [
    "momentos = Viga.calcular_momentos(Tramos)\n",
    "momentos"
   ]
  },
  {
   "cell_type": "markdown",
   "metadata": {},
   "source": [
    "### Se calculan las reacciones"
   ]
  },
  {
   "cell_type": "code",
   "execution_count": 5,
   "metadata": {
    "scrolled": false
   },
   "outputs": [
    {
     "data": {
      "text/plain": [
       "array([-12.36621094,  66.73681641,  37.62939453])"
      ]
     },
     "execution_count": 5,
     "metadata": {},
     "output_type": "execute_result"
    }
   ],
   "source": [
    "Rs = Viga.obtener_Rs(Tramos, momentos)\n",
    "Rs"
   ]
  },
  {
   "cell_type": "markdown",
   "metadata": {},
   "source": [
    "### Se definen las condiciones en cada tramo de la viga para graficar los momentos"
   ]
  },
  {
   "cell_type": "code",
   "execution_count": null,
   "metadata": {
    "scrolled": true
   },
   "outputs": [
    {
     "name": "stdout",
     "output_type": "stream",
     "text": [
      "Escriba el tipo de la carga/reaccion 1: reaccion\n",
      "Escriba la magnitud de la carga/reaccion: -12.366\n",
      "Escriba la longitud de la carga/reaccion: 0\n",
      "Hay mas trozos?: si\n",
      "\n",
      "\n",
      "Escriba el tipo de la carga/reaccion 2: nada\n",
      "Escriba la magnitud de la carga/reaccion: 0\n",
      "Escriba la longitud de la carga/reaccion: 0\n",
      "Hay mas trozos?: si\n",
      "\n",
      "\n",
      "Escriba el tipo de la carga/reaccion 3: carga\n",
      "Escriba la magnitud de la carga/reaccion: 5\n",
      "Escriba la longitud de la carga/reaccion: 0\n",
      "Hay mas trozos?: si\n",
      "\n",
      "\n",
      "Escriba el tipo de la carga/reaccion 4: nada\n",
      "Escriba la magnitud de la carga/reaccion: 0\n",
      "Escriba la longitud de la carga/reaccion: 0\n",
      "Hay mas trozos?: si\n",
      "\n",
      "\n",
      "Escriba el tipo de la carga/reaccion 5: reaccion\n",
      "Escriba la magnitud de la carga/reaccion: 66.736\n",
      "Escriba la longitud de la carga/reaccion: 0\n",
      "Hay mas trozos?: si\n",
      "\n",
      "\n",
      "Escriba el tipo de la carga/reaccion 6: distribuida\n",
      "Escriba la magnitud de la carga/reaccion: 4.5\n",
      "Escriba la longitud de la carga/reaccion: 10\n",
      "Hay mas trozos?: si\n",
      "\n",
      "\n",
      "Escriba el tipo de la carga/reaccion 7: \n"
     ]
    }
   ],
   "source": [
    "Graficas = graficador()"
   ]
  },
  {
   "cell_type": "markdown",
   "metadata": {},
   "source": [
    "### Gráfica de Momentos"
   ]
  },
  {
   "cell_type": "code",
   "execution_count": null,
   "metadata": {},
   "outputs": [],
   "source": [
    "Graficas.grafica_1()"
   ]
  }
 ],
 "metadata": {
  "kernelspec": {
   "display_name": "Python 3",
   "language": "python",
   "name": "python3"
  },
  "language_info": {
   "codemirror_mode": {
    "name": "ipython",
    "version": 3
   },
   "file_extension": ".py",
   "mimetype": "text/x-python",
   "name": "python",
   "nbconvert_exporter": "python",
   "pygments_lexer": "ipython3",
   "version": "3.7.3"
  }
 },
 "nbformat": 4,
 "nbformat_minor": 2
}
