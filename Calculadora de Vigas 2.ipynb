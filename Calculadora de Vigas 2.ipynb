{
 "cells": [
  {
   "cell_type": "markdown",
   "metadata": {},
   "source": [
    "# Calculadora de vigas - Andrés Felipe Cuscagua López\n",
    "\n",
    "- Profesor: Jorge Eliecer Campuzano\n",
    "- Materia: Analisis Estructural"
   ]
  },
  {
   "cell_type": "markdown",
   "metadata": {},
   "source": [
    "### Paquetes utilizados"
   ]
  },
  {
   "cell_type": "code",
   "execution_count": 1,
   "metadata": {},
   "outputs": [],
   "source": [
    "import numpy as np                 # Paquete para operar matrices usado en python\n",
    "import alphas3Momentos as tablas   # Modulo que tiene las formulas de los 3 momentos para los alphas (desarrollado)\n",
    "import Viga                        # Modulo para crear la estructura de datos \"Viga\" (desarrollado)\n",
    "from diagramas import graficador   # Modulo para graficar los momentos de la viga (desarrollado)"
   ]
  },
  {
   "cell_type": "markdown",
   "metadata": {},
   "source": [
    "### Se crea una viga y se pasa la información de cada tramo."
   ]
  },
  {
   "cell_type": "code",
   "execution_count": 2,
   "metadata": {},
   "outputs": [
    {
     "name": "stdout",
     "output_type": "stream",
     "text": [
      "Cuantos tramos tiene la viga: 3\n"
     ]
    }
   ],
   "source": [
    "Mi_viga = Viga.Viga()"
   ]
  },
  {
   "cell_type": "code",
   "execution_count": 7,
   "metadata": {},
   "outputs": [
    {
     "name": "stdout",
     "output_type": "stream",
     "text": [
      "Ingresando tramo: 1\n",
      "Es un voladizo?: si\n",
      "Cuantas cargas hay en el tramo?: 1\n",
      "Escriba el tipo de la carga 1: distribuida\n",
      "Escriba la magnitud de la carga: 210\n",
      "Escriba la distancia de la carga al extremo izquierdo del tramo: 0\n",
      "Escriba la longitud de la carga: 5.5\n",
      "----\n",
      "Escriba la longitud del tramo: 5.5\n"
     ]
    }
   ],
   "source": [
    "Mi_viga.definir_tramo(1)"
   ]
  },
  {
   "cell_type": "code",
   "execution_count": 8,
   "metadata": {
    "scrolled": true
   },
   "outputs": [
    {
     "data": {
      "text/plain": [
       "[{'voladizo': 'si',\n",
       "  'empotrado': 'no',\n",
       "  'cargas': {'carga 1': {'tipo': 'distribuida',\n",
       "    'magnitud': 210.0,\n",
       "    'distancia': 0.0,\n",
       "    'longitud': 5.5}},\n",
       "  'n_cargas': 1,\n",
       "  'L': 5.5},\n",
       " {'voladizo': 'no',\n",
       "  'empotrado': 'no',\n",
       "  'cargas': {'carga 1': {'tipo': 'puntual',\n",
       "    'magnitud': 70.0,\n",
       "    'distancia': 1.0},\n",
       "   'carga 2': {'tipo': 'distribuida',\n",
       "    'magnitud': 200.0,\n",
       "    'distancia': 0.0,\n",
       "    'longitud': 3.5}},\n",
       "  'n_cargas': 2,\n",
       "  'L': 3.5},\n",
       " {'voladizo': 'no',\n",
       "  'empotrado': 'no',\n",
       "  'cargas': {'carga 1': {'tipo': 'puntual',\n",
       "    'magnitud': 60.0,\n",
       "    'distancia': 3.0},\n",
       "   'carga 2': {'tipo': 'puntual', 'magnitud': 60.0, 'distancia': 2.0}},\n",
       "  'n_cargas': 2,\n",
       "  'L': 4.5}]"
      ]
     },
     "execution_count": 8,
     "metadata": {},
     "output_type": "execute_result"
    }
   ],
   "source": [
    "Tramos = Mi_viga.tramos\n",
    "Tramos"
   ]
  },
  {
   "cell_type": "markdown",
   "metadata": {},
   "source": [
    "### Se calculan los momentos"
   ]
  },
  {
   "cell_type": "code",
   "execution_count": 9,
   "metadata": {},
   "outputs": [
    {
     "data": {
      "text/plain": [
       "[0, -3176.25, 495.0911458333333, 0]"
      ]
     },
     "execution_count": 9,
     "metadata": {},
     "output_type": "execute_result"
    }
   ],
   "source": [
    "Mi_viga.momentos = Viga.calcular_momentos(Tramos)\n",
    "Mi_viga.momentos"
   ]
  },
  {
   "cell_type": "markdown",
   "metadata": {},
   "source": [
    "### Se calculan las reacciones"
   ]
  },
  {
   "cell_type": "code",
   "execution_count": null,
   "metadata": {
    "scrolled": false
   },
   "outputs": [],
   "source": [
    "Mi_viga.Rs = Viga.obtener_Rs(Tramos, Mi_viga.momentos)\n",
    "Mi_viga.Rs"
   ]
  },
  {
   "cell_type": "markdown",
   "metadata": {},
   "source": [
    "### Se Inicializa el graficador"
   ]
  },
  {
   "cell_type": "code",
   "execution_count": null,
   "metadata": {
    "scrolled": false
   },
   "outputs": [],
   "source": [
    "Graficas = graficador(Mi_viga)"
   ]
  },
  {
   "cell_type": "markdown",
   "metadata": {},
   "source": [
    "### Gráfica de la Cortante"
   ]
  },
  {
   "cell_type": "code",
   "execution_count": null,
   "metadata": {
    "scrolled": false
   },
   "outputs": [],
   "source": [
    "Graficas.grafica_cortante()"
   ]
  },
  {
   "cell_type": "code",
   "execution_count": null,
   "metadata": {},
   "outputs": [],
   "source": [
    "Graficas.plot_momento['X'].values[-1]"
   ]
  },
  {
   "cell_type": "code",
   "execution_count": null,
   "metadata": {},
   "outputs": [],
   "source": [
    "np.trapz()"
   ]
  },
  {
   "cell_type": "code",
   "execution_count": null,
   "metadata": {},
   "outputs": [],
   "source": [
    "integral = [0]\n",
    "\n",
    "for i in range(Graficas.plot_momento.shape[0]-1):\n",
    "    p1 = Graficas.plot_momento.iloc[i,[1,2]]\n",
    "    p2 = Graficas.plot_momento.iloc[i+1,[1,2]]\n",
    "    \n",
    "    if p1['X'] == p2['X']:\n",
    "        integral.append(0)\n",
    "    elif p1['Y'] == p2['Y']:\n",
    "        x = np.array([x for x in np.arange(0, p2['X'] - p1['X'],0.1)])\n",
    "        integral += (x * p1['Y']).tolist()"
   ]
  },
  {
   "cell_type": "code",
   "execution_count": null,
   "metadata": {},
   "outputs": [],
   "source": [
    "plt.figure()\n",
    "plt.plot(list(range(len(np.arange(0, p1['X'],0.1)))), integral)\n",
    "plt.show()"
   ]
  },
  {
   "cell_type": "code",
   "execution_count": null,
   "metadata": {},
   "outputs": [],
   "source": [
    "np.arange(0, p2['X'] - p1['X'],0.1)"
   ]
  },
  {
   "cell_type": "code",
   "execution_count": null,
   "metadata": {},
   "outputs": [],
   "source": [
    "Graficas.plot_momento"
   ]
  },
  {
   "cell_type": "code",
   "execution_count": null,
   "metadata": {},
   "outputs": [],
   "source": [
    "import pandas as pd\n",
    "import matplotlib.pylab as plt\n",
    "import numpy as np"
   ]
  },
  {
   "cell_type": "code",
   "execution_count": null,
   "metadata": {},
   "outputs": [],
   "source": [
    "plot_momento = pd.read_excel('datos.xlsx')\n",
    "plot_momento"
   ]
  },
  {
   "cell_type": "code",
   "execution_count": null,
   "metadata": {},
   "outputs": [],
   "source": [
    "plt.figure()\n",
    "plt.plot(plot_momento['X'], plot_momento['Y'])\n",
    "plt.grid()\n",
    "plt.show()"
   ]
  },
  {
   "cell_type": "code",
   "execution_count": null,
   "metadata": {},
   "outputs": [],
   "source": [
    "df = plot_momento.copy()"
   ]
  },
  {
   "cell_type": "code",
   "execution_count": null,
   "metadata": {},
   "outputs": [],
   "source": [
    "YY = []\n",
    "XX = []\n",
    "\n",
    "for i in range(0,df.shape[0] - 1):\n",
    "    \n",
    "    p1 = df.iloc[i,:]\n",
    "    p2 = df.iloc[i+1,:]\n",
    "    \n",
    "    if p1['X'] == p2['X']:\n",
    "        XX.append(np.array([0]))\n",
    "        YY.append(np.array([0]))\n",
    "\n",
    "    elif p1['Y'] == p2['Y']:\n",
    "        x1 = 0\n",
    "        y1 = 0             \n",
    "        x2 = p2['X'] - p1['X']\n",
    "        y2 = x2 * p2['Y']\n",
    "        \n",
    "        refx = np.linspace(0,x2)\n",
    "        refy = (y2/x2) * (refx  - x2) + y2\n",
    "        XX.append(refx)\n",
    "        YY.append(refy)\n",
    "    else:\n",
    "        \n",
    "        if p2['Y'] < 0 and p1['Y'] < 0:            \n",
    "            refx = np.linspace(0, p2['X'] - p1['X'])\n",
    "            \n",
    "            a = (p2['Y'] - p1['Y']) / (2 * (p2['X'] - p1['X']))\n",
    "            b = -p2['X'] * (p2['Y'] - p1['Y']) / (p2['X'] - p1['X'])\n",
    "            d =  p2['Y']\n",
    "            refy = (a * refx ** 2) + b * refx + d * refx\n",
    "            XX.append(refx)\n",
    "            YY.append(refy)\n",
    "        else:\n",
    "            refx = np.linspace(0, p2['X'] - p1['X'])\n",
    "\n",
    "            a = (p2['Y'] - p1['Y']) / (2 * (p2['X'] - p1['X']))\n",
    "            b = -p2['X'] * (p2['Y'] - p1['Y']) / (p2['X'] - p1['X'])\n",
    "            d =  p2['Y']\n",
    "            refy = (a * refx ** 2) + b * refx + d * refx\n",
    "\n",
    "            XX.append(refx)\n",
    "            YY.append(refy)           "
   ]
  },
  {
   "cell_type": "code",
   "execution_count": null,
   "metadata": {
    "scrolled": false
   },
   "outputs": [],
   "source": [
    "for i in range(len(XX)):\n",
    "    plt.figure()\n",
    "    plt.plot(XX[i], YY[i])\n",
    "    plt.show()"
   ]
  },
  {
   "cell_type": "code",
   "execution_count": null,
   "metadata": {},
   "outputs": [],
   "source": [
    "len(XX[5])"
   ]
  },
  {
   "cell_type": "code",
   "execution_count": null,
   "metadata": {},
   "outputs": [],
   "source": [
    "XF = XX[0]\n",
    "YF = YY[0]\n",
    "\n",
    "for i in range(1,len(XX)):\n",
    "    if len(XX[i]) > 1:\n",
    "        XF = np.concatenate((XF,XX[i] + XF[-1]), axis = None)\n",
    "        YF = np.concatenate((YF,YY[i] + YF[-1]), axis = None)"
   ]
  },
  {
   "cell_type": "code",
   "execution_count": null,
   "metadata": {},
   "outputs": [],
   "source": [
    "Final = pd.DataFrame()\n",
    "Final['X'] = XF\n",
    "Final['Y'] = YF\n",
    "Final"
   ]
  },
  {
   "cell_type": "code",
   "execution_count": null,
   "metadata": {},
   "outputs": [],
   "source": [
    "plt.figure()\n",
    "plt.plot(Final['X'], Final['Y'])\n",
    "plt.show()"
   ]
  }
 ],
 "metadata": {
  "kernelspec": {
   "display_name": "Python 3",
   "language": "python",
   "name": "python3"
  },
  "language_info": {
   "codemirror_mode": {
    "name": "ipython",
    "version": 3
   },
   "file_extension": ".py",
   "mimetype": "text/x-python",
   "name": "python",
   "nbconvert_exporter": "python",
   "pygments_lexer": "ipython3",
   "version": "3.7.3"
  }
 },
 "nbformat": 4,
 "nbformat_minor": 2
}
