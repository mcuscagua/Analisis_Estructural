{
 "cells": [
  {
   "cell_type": "markdown",
   "metadata": {},
   "source": [
    "# Calculadora de vigas - Andrés Felipe Cuscagua López\n",
    "\n",
    "- Profesor: Jorge Eliecer Campuzano\n",
    "- Materia: Analisis Estructural"
   ]
  },
  {
   "cell_type": "markdown",
   "metadata": {},
   "source": [
    "### Paquetes utilizados"
   ]
  },
  {
   "cell_type": "code",
   "execution_count": 1,
   "metadata": {
    "collapsed": true
   },
   "outputs": [],
   "source": [
    "import numpy as np                 # Paquete para operar matrices usado en python\n",
    "import alphas3Momentos as tablas   # Modulo que tiene las formulas de los 3 momentos para los alphas (desarrollado)\n",
    "import Viga                        # Modulo para crear la estructura de datos \"Viga\" (desarrollado)\n",
    "from diagramas import graficador   # Modulo para graficar los momentos de la viga (desarrollado)"
   ]
  },
  {
   "cell_type": "markdown",
   "metadata": {},
   "source": [
    "### Se crea una viga y se pasa la información de cada tramo."
   ]
  },
  {
   "cell_type": "code",
   "execution_count": 2,
   "metadata": {},
   "outputs": [
    {
     "name": "stdout",
     "output_type": "stream",
     "text": [
      "Cuantos tramos tiene la viga: 2\n"
     ]
    }
   ],
   "source": [
    "Mi_viga = Viga.Viga()"
   ]
  },
  {
   "cell_type": "code",
   "execution_count": 6,
   "metadata": {},
   "outputs": [
    {
     "name": "stdout",
     "output_type": "stream",
     "text": [
      "Ingresando tramo: 2\n",
      "Es un voladizo?: no\n",
      "Es un empotramiento?: no\n",
      "Cuantas cargas hay en el tramo?: 2\n",
      "Escriba el tipo de la carga 1: puntual\n",
      "Escriba la magnitud de la carga: 15\n",
      "Escriba la distancia de la carga al extremo izquierdo del tramo: 10\n",
      "----\n",
      "Escriba el tipo de la carga 2: distribuida\n",
      "Escriba la magnitud de la carga: 4.5\n",
      "Escriba la distancia de la carga al extremo izquierdo del tramo: 0\n",
      "Escriba la longitud de la carga: 16\n",
      "----\n",
      "Escriba la longitud del tramo: 16\n"
     ]
    }
   ],
   "source": [
    "Mi_viga.definir_tramo(2)"
   ]
  },
  {
   "cell_type": "code",
   "execution_count": 7,
   "metadata": {
    "scrolled": true
   },
   "outputs": [
    {
     "data": {
      "text/plain": [
       "[{'voladizo': 'no',\n",
       "  'empotrado': 'no',\n",
       "  'cargas': {'carga 1': {'tipo': 'puntual',\n",
       "    'magnitud': 5.0,\n",
       "    'distancia': 3.0}},\n",
       "  'n_cargas': 1,\n",
       "  'L': 8.0},\n",
       " {'voladizo': 'no',\n",
       "  'empotrado': 'no',\n",
       "  'cargas': {'carga 1': {'tipo': 'puntual',\n",
       "    'magnitud': 15.0,\n",
       "    'distancia': 10.0},\n",
       "   'carga 2': {'tipo': 'distribuida',\n",
       "    'magnitud': 4.5,\n",
       "    'distancia': 0.0,\n",
       "    'longitud': 16.0}},\n",
       "  'n_cargas': 2,\n",
       "  'L': 16.0}]"
      ]
     },
     "execution_count": 7,
     "metadata": {},
     "output_type": "execute_result"
    }
   ],
   "source": [
    "Tramos = Mi_viga.tramos\n",
    "Tramos"
   ]
  },
  {
   "cell_type": "markdown",
   "metadata": {},
   "source": [
    "### Se calculan los momentos"
   ]
  },
  {
   "cell_type": "code",
   "execution_count": 8,
   "metadata": {},
   "outputs": [
    {
     "data": {
      "text/plain": [
       "[0, -123.9296875, 0]"
      ]
     },
     "execution_count": 8,
     "metadata": {},
     "output_type": "execute_result"
    }
   ],
   "source": [
    "Mi_viga.momentos = Viga.calcular_momentos(Tramos)\n",
    "Mi_viga.momentos"
   ]
  },
  {
   "cell_type": "markdown",
   "metadata": {},
   "source": [
    "### Se calculan las reacciones"
   ]
  },
  {
   "cell_type": "code",
   "execution_count": 9,
   "metadata": {
    "scrolled": false
   },
   "outputs": [
    {
     "data": {
      "text/plain": [
       "array([-12.36621094,  66.73681641,  37.62939453])"
      ]
     },
     "execution_count": 9,
     "metadata": {},
     "output_type": "execute_result"
    }
   ],
   "source": [
    "Mi_viga.Rs = Viga.obtener_Rs(Tramos, Mi_viga.momentos)\n",
    "Mi_viga.Rs"
   ]
  },
  {
   "cell_type": "markdown",
   "metadata": {},
   "source": [
    "### Se Inicializa el graficador"
   ]
  },
  {
   "cell_type": "code",
   "execution_count": 10,
   "metadata": {
    "collapsed": true,
    "scrolled": false
   },
   "outputs": [],
   "source": [
    "Graficas = graficador(Mi_viga)"
   ]
  },
  {
   "cell_type": "markdown",
   "metadata": {},
   "source": [
    "### Gráfica de la Cortante"
   ]
  },
  {
   "cell_type": "code",
   "execution_count": 11,
   "metadata": {
    "scrolled": false
   },
   "outputs": [
    {
     "data": {
      "image/png": "[encoded data removed]",
      "text/plain": [
       "<Figure size 720x720 with 1 Axes>"
      ]
     },
     "metadata": {
      "needs_background": "light"
     },
     "output_type": "display_data"
    }
   ],
   "source": [
    "Graficas.grafica_cortante()"
   ]
  },
  {
   "cell_type": "code",
   "execution_count": 16,
   "metadata": {},
   "outputs": [
    {
     "data": {
      "text/plain": [
       "24.0"
      ]
     },
     "execution_count": 16,
     "metadata": {},
     "output_type": "execute_result"
    }
   ],
   "source": [
    "Graficas.plot_momento['X'].values[-1]"
   ]
  },
  {
   "cell_type": "code",
   "execution_count": null,
   "metadata": {
    "collapsed": true
   },
   "outputs": [],
   "source": [
    "np.trapz()"
   ]
  },
  {
   "cell_type": "code",
   "execution_count": 64,
   "metadata": {
    "collapsed": true
   },
   "outputs": [],
   "source": [
    "integral = [0]\n",
    "\n",
    "for i in range(Graficas.plot_momento.shape[0]-1):\n",
    "    p1 = Graficas.plot_momento.iloc[i,[1,2]]\n",
    "    p2 = Graficas.plot_momento.iloc[i+1,[1,2]]\n",
    "    \n",
    "    if p1['X'] == p2['X']:\n",
    "        integral.append(0)\n",
    "    elif p1['Y'] == p2['Y']:\n",
    "        x = np.array([x for x in np.arange(0, p2['X'] - p1['X'],0.1)])\n",
    "        integral += (x * p1['Y']).tolist()"
   ]
  },
  {
   "cell_type": "code",
   "execution_count": 65,
   "metadata": {},
   "outputs": [
    {
     "ename": "ValueError",
     "evalue": "x and y must have same first dimension, but have shapes (240,) and (89,)",
     "output_type": "error",
     "traceback": [
      "\u001b[1;31m---------------------------------------------------------------------------\u001b[0m",
      "\u001b[1;31mValueError\u001b[0m                                Traceback (most recent call last)",
      "\u001b[1;32m<ipython-input-65-c0a4858a2c81>\u001b[0m in \u001b[0;36m<module>\u001b[1;34m\u001b[0m\n\u001b[0;32m      1\u001b[0m \u001b[0mplt\u001b[0m\u001b[1;33m.\u001b[0m\u001b[0mfigure\u001b[0m\u001b[1;33m(\u001b[0m\u001b[1;33m)\u001b[0m\u001b[1;33m\u001b[0m\u001b[1;33m\u001b[0m\u001b[0m\n\u001b[1;32m----> 2\u001b[1;33m \u001b[0mplt\u001b[0m\u001b[1;33m.\u001b[0m\u001b[0mplot\u001b[0m\u001b[1;33m(\u001b[0m\u001b[0mlist\u001b[0m\u001b[1;33m(\u001b[0m\u001b[0mrange\u001b[0m\u001b[1;33m(\u001b[0m\u001b[0mlen\u001b[0m\u001b[1;33m(\u001b[0m\u001b[0mnp\u001b[0m\u001b[1;33m.\u001b[0m\u001b[0marange\u001b[0m\u001b[1;33m(\u001b[0m\u001b[1;36m0\u001b[0m\u001b[1;33m,\u001b[0m \u001b[0mp1\u001b[0m\u001b[1;33m[\u001b[0m\u001b[1;34m'X'\u001b[0m\u001b[1;33m]\u001b[0m\u001b[1;33m,\u001b[0m\u001b[1;36m0.1\u001b[0m\u001b[1;33m)\u001b[0m\u001b[1;33m)\u001b[0m\u001b[1;33m)\u001b[0m\u001b[1;33m)\u001b[0m\u001b[1;33m,\u001b[0m \u001b[0mintegral\u001b[0m\u001b[1;33m)\u001b[0m\u001b[1;33m\u001b[0m\u001b[1;33m\u001b[0m\u001b[0m\n\u001b[0m\u001b[0;32m      3\u001b[0m \u001b[0mplt\u001b[0m\u001b[1;33m.\u001b[0m\u001b[0mshow\u001b[0m\u001b[1;33m(\u001b[0m\u001b[1;33m)\u001b[0m\u001b[1;33m\u001b[0m\u001b[1;33m\u001b[0m\u001b[0m\n",
      "\u001b[1;32mC:\\Anaconda3\\lib\\site-packages\\matplotlib\\pyplot.py\u001b[0m in \u001b[0;36mplot\u001b[1;34m(scalex, scaley, data, *args, **kwargs)\u001b[0m\n\u001b[0;32m   2787\u001b[0m     return gca().plot(\n\u001b[0;32m   2788\u001b[0m         *args, scalex=scalex, scaley=scaley, **({\"data\": data} if data\n\u001b[1;32m-> 2789\u001b[1;33m         is not None else {}), **kwargs)\n\u001b[0m\u001b[0;32m   2790\u001b[0m \u001b[1;33m\u001b[0m\u001b[0m\n\u001b[0;32m   2791\u001b[0m \u001b[1;33m\u001b[0m\u001b[0m\n",
      "\u001b[1;32mC:\\Anaconda3\\lib\\site-packages\\matplotlib\\axes\\_axes.py\u001b[0m in \u001b[0;36mplot\u001b[1;34m(self, scalex, scaley, data, *args, **kwargs)\u001b[0m\n\u001b[0;32m   1664\u001b[0m         \"\"\"\n\u001b[0;32m   1665\u001b[0m         \u001b[0mkwargs\u001b[0m \u001b[1;33m=\u001b[0m \u001b[0mcbook\u001b[0m\u001b[1;33m.\u001b[0m\u001b[0mnormalize_kwargs\u001b[0m\u001b[1;33m(\u001b[0m\u001b[0mkwargs\u001b[0m\u001b[1;33m,\u001b[0m \u001b[0mmlines\u001b[0m\u001b[1;33m.\u001b[0m\u001b[0mLine2D\u001b[0m\u001b[1;33m.\u001b[0m\u001b[0m_alias_map\u001b[0m\u001b[1;33m)\u001b[0m\u001b[1;33m\u001b[0m\u001b[1;33m\u001b[0m\u001b[0m\n\u001b[1;32m-> 1666\u001b[1;33m         \u001b[0mlines\u001b[0m \u001b[1;33m=\u001b[0m \u001b[1;33m[\u001b[0m\u001b[1;33m*\u001b[0m\u001b[0mself\u001b[0m\u001b[1;33m.\u001b[0m\u001b[0m_get_lines\u001b[0m\u001b[1;33m(\u001b[0m\u001b[1;33m*\u001b[0m\u001b[0margs\u001b[0m\u001b[1;33m,\u001b[0m \u001b[0mdata\u001b[0m\u001b[1;33m=\u001b[0m\u001b[0mdata\u001b[0m\u001b[1;33m,\u001b[0m \u001b[1;33m**\u001b[0m\u001b[0mkwargs\u001b[0m\u001b[1;33m)\u001b[0m\u001b[1;33m]\u001b[0m\u001b[1;33m\u001b[0m\u001b[1;33m\u001b[0m\u001b[0m\n\u001b[0m\u001b[0;32m   1667\u001b[0m         \u001b[1;32mfor\u001b[0m \u001b[0mline\u001b[0m \u001b[1;32min\u001b[0m \u001b[0mlines\u001b[0m\u001b[1;33m:\u001b[0m\u001b[1;33m\u001b[0m\u001b[1;33m\u001b[0m\u001b[0m\n\u001b[0;32m   1668\u001b[0m             \u001b[0mself\u001b[0m\u001b[1;33m.\u001b[0m\u001b[0madd_line\u001b[0m\u001b[1;33m(\u001b[0m\u001b[0mline\u001b[0m\u001b[1;33m)\u001b[0m\u001b[1;33m\u001b[0m\u001b[1;33m\u001b[0m\u001b[0m\n",
      "\u001b[1;32mC:\\Anaconda3\\lib\\site-packages\\matplotlib\\axes\\_base.py\u001b[0m in \u001b[0;36m__call__\u001b[1;34m(self, *args, **kwargs)\u001b[0m\n\u001b[0;32m    223\u001b[0m                 \u001b[0mthis\u001b[0m \u001b[1;33m+=\u001b[0m \u001b[0margs\u001b[0m\u001b[1;33m[\u001b[0m\u001b[1;36m0\u001b[0m\u001b[1;33m]\u001b[0m\u001b[1;33m,\u001b[0m\u001b[1;33m\u001b[0m\u001b[1;33m\u001b[0m\u001b[0m\n\u001b[0;32m    224\u001b[0m                 \u001b[0margs\u001b[0m \u001b[1;33m=\u001b[0m \u001b[0margs\u001b[0m\u001b[1;33m[\u001b[0m\u001b[1;36m1\u001b[0m\u001b[1;33m:\u001b[0m\u001b[1;33m]\u001b[0m\u001b[1;33m\u001b[0m\u001b[1;33m\u001b[0m\u001b[0m\n\u001b[1;32m--> 225\u001b[1;33m             \u001b[1;32myield\u001b[0m \u001b[1;32mfrom\u001b[0m \u001b[0mself\u001b[0m\u001b[1;33m.\u001b[0m\u001b[0m_plot_args\u001b[0m\u001b[1;33m(\u001b[0m\u001b[0mthis\u001b[0m\u001b[1;33m,\u001b[0m \u001b[0mkwargs\u001b[0m\u001b[1;33m)\u001b[0m\u001b[1;33m\u001b[0m\u001b[1;33m\u001b[0m\u001b[0m\n\u001b[0m\u001b[0;32m    226\u001b[0m \u001b[1;33m\u001b[0m\u001b[0m\n\u001b[0;32m    227\u001b[0m     \u001b[1;32mdef\u001b[0m \u001b[0mget_next_color\u001b[0m\u001b[1;33m(\u001b[0m\u001b[0mself\u001b[0m\u001b[1;33m)\u001b[0m\u001b[1;33m:\u001b[0m\u001b[1;33m\u001b[0m\u001b[1;33m\u001b[0m\u001b[0m\n",
      "\u001b[1;32mC:\\Anaconda3\\lib\\site-packages\\matplotlib\\axes\\_base.py\u001b[0m in \u001b[0;36m_plot_args\u001b[1;34m(self, tup, kwargs)\u001b[0m\n\u001b[0;32m    389\u001b[0m             \u001b[0mx\u001b[0m\u001b[1;33m,\u001b[0m \u001b[0my\u001b[0m \u001b[1;33m=\u001b[0m \u001b[0mindex_of\u001b[0m\u001b[1;33m(\u001b[0m\u001b[0mtup\u001b[0m\u001b[1;33m[\u001b[0m\u001b[1;33m-\u001b[0m\u001b[1;36m1\u001b[0m\u001b[1;33m]\u001b[0m\u001b[1;33m)\u001b[0m\u001b[1;33m\u001b[0m\u001b[1;33m\u001b[0m\u001b[0m\n\u001b[0;32m    390\u001b[0m \u001b[1;33m\u001b[0m\u001b[0m\n\u001b[1;32m--> 391\u001b[1;33m         \u001b[0mx\u001b[0m\u001b[1;33m,\u001b[0m \u001b[0my\u001b[0m \u001b[1;33m=\u001b[0m \u001b[0mself\u001b[0m\u001b[1;33m.\u001b[0m\u001b[0m_xy_from_xy\u001b[0m\u001b[1;33m(\u001b[0m\u001b[0mx\u001b[0m\u001b[1;33m,\u001b[0m \u001b[0my\u001b[0m\u001b[1;33m)\u001b[0m\u001b[1;33m\u001b[0m\u001b[1;33m\u001b[0m\u001b[0m\n\u001b[0m\u001b[0;32m    392\u001b[0m \u001b[1;33m\u001b[0m\u001b[0m\n\u001b[0;32m    393\u001b[0m         \u001b[1;32mif\u001b[0m \u001b[0mself\u001b[0m\u001b[1;33m.\u001b[0m\u001b[0mcommand\u001b[0m \u001b[1;33m==\u001b[0m \u001b[1;34m'plot'\u001b[0m\u001b[1;33m:\u001b[0m\u001b[1;33m\u001b[0m\u001b[1;33m\u001b[0m\u001b[0m\n",
      "\u001b[1;32mC:\\Anaconda3\\lib\\site-packages\\matplotlib\\axes\\_base.py\u001b[0m in \u001b[0;36m_xy_from_xy\u001b[1;34m(self, x, y)\u001b[0m\n\u001b[0;32m    268\u001b[0m         \u001b[1;32mif\u001b[0m \u001b[0mx\u001b[0m\u001b[1;33m.\u001b[0m\u001b[0mshape\u001b[0m\u001b[1;33m[\u001b[0m\u001b[1;36m0\u001b[0m\u001b[1;33m]\u001b[0m \u001b[1;33m!=\u001b[0m \u001b[0my\u001b[0m\u001b[1;33m.\u001b[0m\u001b[0mshape\u001b[0m\u001b[1;33m[\u001b[0m\u001b[1;36m0\u001b[0m\u001b[1;33m]\u001b[0m\u001b[1;33m:\u001b[0m\u001b[1;33m\u001b[0m\u001b[1;33m\u001b[0m\u001b[0m\n\u001b[0;32m    269\u001b[0m             raise ValueError(\"x and y must have same first dimension, but \"\n\u001b[1;32m--> 270\u001b[1;33m                              \"have shapes {} and {}\".format(x.shape, y.shape))\n\u001b[0m\u001b[0;32m    271\u001b[0m         \u001b[1;32mif\u001b[0m \u001b[0mx\u001b[0m\u001b[1;33m.\u001b[0m\u001b[0mndim\u001b[0m \u001b[1;33m>\u001b[0m \u001b[1;36m2\u001b[0m \u001b[1;32mor\u001b[0m \u001b[0my\u001b[0m\u001b[1;33m.\u001b[0m\u001b[0mndim\u001b[0m \u001b[1;33m>\u001b[0m \u001b[1;36m2\u001b[0m\u001b[1;33m:\u001b[0m\u001b[1;33m\u001b[0m\u001b[1;33m\u001b[0m\u001b[0m\n\u001b[0;32m    272\u001b[0m             raise ValueError(\"x and y can be no greater than 2-D, but have \"\n",
      "\u001b[1;31mValueError\u001b[0m: x and y must have same first dimension, but have shapes (240,) and (89,)"
     ]
    },
    {
     "data": {
      "image/png": "[encoded data removed]",
      "text/plain": [
       "<Figure size 432x288 with 1 Axes>"
      ]
     },
     "metadata": {
      "needs_background": "light"
     },
     "output_type": "display_data"
    }
   ],
   "source": [
    "plt.figure()\n",
    "plt.plot(list(range(len(np.arange(0, p1['X'],0.1)))), integral)\n",
    "plt.show()"
   ]
  },
  {
   "cell_type": "code",
   "execution_count": 49,
   "metadata": {},
   "outputs": [
    {
     "data": {
      "text/plain": [
       "array([0. , 0.1, 0.2, 0.3, 0.4, 0.5, 0.6, 0.7, 0.8, 0.9, 1. , 1.1, 1.2,\n",
       "       1.3, 1.4, 1.5, 1.6, 1.7, 1.8, 1.9, 2. , 2.1, 2.2, 2.3, 2.4, 2.5,\n",
       "       2.6, 2.7, 2.8, 2.9])"
      ]
     },
     "execution_count": 49,
     "metadata": {},
     "output_type": "execute_result"
    }
   ],
   "source": [
    "np.arange(0, p2['X'] - p1['X'],0.1)"
   ]
  },
  {
   "cell_type": "code",
   "execution_count": 12,
   "metadata": {},
   "outputs": [
    {
     "data": {
      "text/html": [
       "<div>\n",
       "<style scoped>\n",
       "    .dataframe tbody tr th:only-of-type {\n",
       "        vertical-align: middle;\n",
       "    }\n",
       "\n",
       "    .dataframe tbody tr th {\n",
       "        vertical-align: top;\n",
       "    }\n",
       "\n",
       "    .dataframe thead th {\n",
       "        text-align: right;\n",
       "    }\n",
       "</style>\n",
       "<table border=\"1\" class=\"dataframe\">\n",
       "  <thead>\n",
       "    <tr style=\"text-align: right;\">\n",
       "      <th></th>\n",
       "      <th>tipo</th>\n",
       "      <th>X</th>\n",
       "      <th>Y</th>\n",
       "    </tr>\n",
       "  </thead>\n",
       "  <tbody>\n",
       "    <tr>\n",
       "      <th>0</th>\n",
       "      <td>nada</td>\n",
       "      <td>0</td>\n",
       "      <td>0</td>\n",
       "    </tr>\n",
       "    <tr>\n",
       "      <th>1</th>\n",
       "      <td>reaccion</td>\n",
       "      <td>0</td>\n",
       "      <td>-12.3662</td>\n",
       "    </tr>\n",
       "    <tr>\n",
       "      <th>2</th>\n",
       "      <td>nada</td>\n",
       "      <td>3</td>\n",
       "      <td>-12.3662</td>\n",
       "    </tr>\n",
       "    <tr>\n",
       "      <th>3</th>\n",
       "      <td>puntual</td>\n",
       "      <td>3</td>\n",
       "      <td>-17.3662</td>\n",
       "    </tr>\n",
       "    <tr>\n",
       "      <th>4</th>\n",
       "      <td>nada</td>\n",
       "      <td>8</td>\n",
       "      <td>-17.3662</td>\n",
       "    </tr>\n",
       "    <tr>\n",
       "      <th>5</th>\n",
       "      <td>nada</td>\n",
       "      <td>8</td>\n",
       "      <td>-17.3662</td>\n",
       "    </tr>\n",
       "    <tr>\n",
       "      <th>6</th>\n",
       "      <td>reaccion</td>\n",
       "      <td>8</td>\n",
       "      <td>49.3706</td>\n",
       "    </tr>\n",
       "    <tr>\n",
       "      <th>7</th>\n",
       "      <td>distribuida</td>\n",
       "      <td>18</td>\n",
       "      <td>4.37061</td>\n",
       "    </tr>\n",
       "    <tr>\n",
       "      <th>8</th>\n",
       "      <td>puntual</td>\n",
       "      <td>18</td>\n",
       "      <td>-10.6294</td>\n",
       "    </tr>\n",
       "    <tr>\n",
       "      <th>9</th>\n",
       "      <td>distribuida</td>\n",
       "      <td>24</td>\n",
       "      <td>-37.6294</td>\n",
       "    </tr>\n",
       "    <tr>\n",
       "      <th>10</th>\n",
       "      <td>nada</td>\n",
       "      <td>24</td>\n",
       "      <td>-37.6294</td>\n",
       "    </tr>\n",
       "    <tr>\n",
       "      <th>11</th>\n",
       "      <td>nada</td>\n",
       "      <td>24</td>\n",
       "      <td>-37.6294</td>\n",
       "    </tr>\n",
       "    <tr>\n",
       "      <th>12</th>\n",
       "      <td>Reaccion</td>\n",
       "      <td>24</td>\n",
       "      <td>0</td>\n",
       "    </tr>\n",
       "  </tbody>\n",
       "</table>\n",
       "</div>"
      ],
      "text/plain": [
       "           tipo   X        Y\n",
       "0          nada   0        0\n",
       "1      reaccion   0 -12.3662\n",
       "2          nada   3 -12.3662\n",
       "3       puntual   3 -17.3662\n",
       "4          nada   8 -17.3662\n",
       "5          nada   8 -17.3662\n",
       "6      reaccion   8  49.3706\n",
       "7   distribuida  18  4.37061\n",
       "8       puntual  18 -10.6294\n",
       "9   distribuida  24 -37.6294\n",
       "10         nada  24 -37.6294\n",
       "11         nada  24 -37.6294\n",
       "12     Reaccion  24        0"
      ]
     },
     "execution_count": 12,
     "metadata": {},
     "output_type": "execute_result"
    }
   ],
   "source": [
    "Graficas.plot_momento"
   ]
  },
  {
   "cell_type": "code",
   "execution_count": 1,
   "metadata": {},
   "outputs": [],
   "source": [
    "import pandas as pd\n",
    "import matplotlib.pylab as plt\n",
    "import numpy as np"
   ]
  },
  {
   "cell_type": "code",
   "execution_count": 2,
   "metadata": {},
   "outputs": [
    {
     "data": {
      "text/html": [
       "<div>\n",
       "<style scoped>\n",
       "    .dataframe tbody tr th:only-of-type {\n",
       "        vertical-align: middle;\n",
       "    }\n",
       "\n",
       "    .dataframe tbody tr th {\n",
       "        vertical-align: top;\n",
       "    }\n",
       "\n",
       "    .dataframe thead th {\n",
       "        text-align: right;\n",
       "    }\n",
       "</style>\n",
       "<table border=\"1\" class=\"dataframe\">\n",
       "  <thead>\n",
       "    <tr style=\"text-align: right;\">\n",
       "      <th></th>\n",
       "      <th>tipo</th>\n",
       "      <th>X</th>\n",
       "      <th>Y</th>\n",
       "    </tr>\n",
       "  </thead>\n",
       "  <tbody>\n",
       "    <tr>\n",
       "      <th>0</th>\n",
       "      <td>nada</td>\n",
       "      <td>0</td>\n",
       "      <td>0.00000</td>\n",
       "    </tr>\n",
       "    <tr>\n",
       "      <th>1</th>\n",
       "      <td>reaccion</td>\n",
       "      <td>0</td>\n",
       "      <td>-12.36620</td>\n",
       "    </tr>\n",
       "    <tr>\n",
       "      <th>2</th>\n",
       "      <td>nada</td>\n",
       "      <td>3</td>\n",
       "      <td>-12.36620</td>\n",
       "    </tr>\n",
       "    <tr>\n",
       "      <th>3</th>\n",
       "      <td>puntual</td>\n",
       "      <td>3</td>\n",
       "      <td>-17.36620</td>\n",
       "    </tr>\n",
       "    <tr>\n",
       "      <th>4</th>\n",
       "      <td>nada</td>\n",
       "      <td>8</td>\n",
       "      <td>-17.36620</td>\n",
       "    </tr>\n",
       "    <tr>\n",
       "      <th>5</th>\n",
       "      <td>nada</td>\n",
       "      <td>8</td>\n",
       "      <td>-17.36620</td>\n",
       "    </tr>\n",
       "    <tr>\n",
       "      <th>6</th>\n",
       "      <td>reaccion</td>\n",
       "      <td>8</td>\n",
       "      <td>49.37060</td>\n",
       "    </tr>\n",
       "    <tr>\n",
       "      <th>7</th>\n",
       "      <td>distribuida</td>\n",
       "      <td>18</td>\n",
       "      <td>4.37061</td>\n",
       "    </tr>\n",
       "    <tr>\n",
       "      <th>8</th>\n",
       "      <td>puntual</td>\n",
       "      <td>18</td>\n",
       "      <td>-10.62940</td>\n",
       "    </tr>\n",
       "    <tr>\n",
       "      <th>9</th>\n",
       "      <td>distribuida</td>\n",
       "      <td>24</td>\n",
       "      <td>-37.62940</td>\n",
       "    </tr>\n",
       "    <tr>\n",
       "      <th>10</th>\n",
       "      <td>nada</td>\n",
       "      <td>24</td>\n",
       "      <td>-37.62940</td>\n",
       "    </tr>\n",
       "    <tr>\n",
       "      <th>11</th>\n",
       "      <td>nada</td>\n",
       "      <td>24</td>\n",
       "      <td>-37.62940</td>\n",
       "    </tr>\n",
       "    <tr>\n",
       "      <th>12</th>\n",
       "      <td>Reaccion</td>\n",
       "      <td>24</td>\n",
       "      <td>0.00000</td>\n",
       "    </tr>\n",
       "  </tbody>\n",
       "</table>\n",
       "</div>"
      ],
      "text/plain": [
       "           tipo   X         Y\n",
       "0          nada   0   0.00000\n",
       "1      reaccion   0 -12.36620\n",
       "2          nada   3 -12.36620\n",
       "3       puntual   3 -17.36620\n",
       "4          nada   8 -17.36620\n",
       "5          nada   8 -17.36620\n",
       "6      reaccion   8  49.37060\n",
       "7   distribuida  18   4.37061\n",
       "8       puntual  18 -10.62940\n",
       "9   distribuida  24 -37.62940\n",
       "10         nada  24 -37.62940\n",
       "11         nada  24 -37.62940\n",
       "12     Reaccion  24   0.00000"
      ]
     },
     "execution_count": 2,
     "metadata": {},
     "output_type": "execute_result"
    }
   ],
   "source": [
    "plot_momento = pd.read_excel('datos.xlsx')\n",
    "plot_momento"
   ]
  },
  {
   "cell_type": "code",
   "execution_count": 3,
   "metadata": {},
   "outputs": [
    {
     "data": {
      "image/png": "[encoded data removed]",
      "text/plain": [
       "<Figure size 432x288 with 1 Axes>"
      ]
     },
     "metadata": {
      "needs_background": "light"
     },
     "output_type": "display_data"
    }
   ],
   "source": [
    "plt.figure()\n",
    "plt.plot(plot_momento['X'], plot_momento['Y'])\n",
    "plt.grid()\n",
    "plt.show()"
   ]
  },
  {
   "cell_type": "code",
   "execution_count": 5,
   "metadata": {},
   "outputs": [],
   "source": [
    "df = plot_momento.copy()"
   ]
  },
  {
   "cell_type": "code",
   "execution_count": 100,
   "metadata": {},
   "outputs": [],
   "source": [
    "YY = []\n",
    "XX = []\n",
    "\n",
    "for i in range(0,df.shape[0] - 1):\n",
    "    \n",
    "    p1 = df.iloc[i,:]\n",
    "    p2 = df.iloc[i+1,:]\n",
    "    \n",
    "    if p1['X'] == p2['X']:\n",
    "        XX.append(np.array([0]))\n",
    "        YY.append(np.array([0]))\n",
    "\n",
    "    elif p1['Y'] == p2['Y']:\n",
    "        x1 = 0\n",
    "        y1 = 0             \n",
    "        x2 = p2['X'] - p1['X']\n",
    "        y2 = x2 * p2['Y']\n",
    "        \n",
    "        refx = np.linspace(0,x2)\n",
    "        refy = (y2/x2) * (refx  - x2) + y2\n",
    "        XX.append(refx)\n",
    "        YY.append(refy)\n",
    "    else:\n",
    "        \n",
    "        if p2['Y'] < 0 and p1['Y'] < 0:            \n",
    "            refx = np.linspace(0, p2['X'] - p1['X'])\n",
    "            \n",
    "            a = (p2['Y'] - p1['Y']) / (2 * (p2['X'] - p1['X']))\n",
    "            b = -p2['X'] * (p2['Y'] - p1['Y']) / (p2['X'] - p1['X'])\n",
    "            d =  p2['Y']\n",
    "            refy = (a * refx ** 2) + b * refx + d * refx\n",
    "            XX.append(refx)\n",
    "            YY.append(refy)\n",
    "        else:\n",
    "            refx = np.linspace(0, p2['X'] - p1['X'])\n",
    "\n",
    "            a = (p2['Y'] - p1['Y']) / (2 * (p2['X'] - p1['X']))\n",
    "            b = -p2['X'] * (p2['Y'] - p1['Y']) / (p2['X'] - p1['X'])\n",
    "            d =  p2['Y']\n",
    "            refy = (a * refx ** 2) + b * refx + d * refx\n",
    "\n",
    "            XX.append(refx)\n",
    "            YY.append(refy)           "
   ]
  },
  {
   "cell_type": "code",
   "execution_count": 101,
   "metadata": {
    "scrolled": false
   },
   "outputs": [
    {
     "data": {
      "image/png": "[encoded data removed]",
      "text/plain": [
       "<Figure size 432x288 with 1 Axes>"
      ]
     },
     "metadata": {
      "needs_background": "light"
     },
     "output_type": "display_data"
    },
    {
     "data": {
      "image/png": "[encoded data removed]",
      "text/plain": [
       "<Figure size 432x288 with 1 Axes>"
      ]
     },
     "metadata": {
      "needs_background": "light"
     },
     "output_type": "display_data"
    },
    {
     "data": {
      "image/png": "[encoded data removed]",
      "text/plain": [
       "<Figure size 432x288 with 1 Axes>"
      ]
     },
     "metadata": {
      "needs_background": "light"
     },
     "output_type": "display_data"
    },
    {
     "data": {
      "image/png": "[encoded data removed]",
      "text/plain": [
       "<Figure size 432x288 with 1 Axes>"
      ]
     },
     "metadata": {
      "needs_background": "light"
     },
     "output_type": "display_data"
    },
    {
     "data": {
      "image/png": "[encoded data removed]",
      "text/plain": [
       "<Figure size 432x288 with 1 Axes>"
      ]
     },
     "metadata": {
      "needs_background": "light"
     },
     "output_type": "display_data"
    },
    {
     "data": {
      "image/png": "[encoded data removed]",
      "text/plain": [
       "<Figure size 432x288 with 1 Axes>"
      ]
     },
     "metadata": {
      "needs_background": "light"
     },
     "output_type": "display_data"
    },
    {
     "data": {
      "image/png": "[encoded data removed]",
      "text/plain": [
       "<Figure size 432x288 with 1 Axes>"
      ]
     },
     "metadata": {
      "needs_background": "light"
     },
     "output_type": "display_data"
    },
    {
     "data": {
      "image/png": "[encoded data removed]",
      "text/plain": [
       "<Figure size 432x288 with 1 Axes>"
      ]
     },
     "metadata": {
      "needs_background": "light"
     },
     "output_type": "display_data"
    },
    {
     "data": {
      "image/png": "[encoded data removed]",
      "text/plain": [
       "<Figure size 432x288 with 1 Axes>"
      ]
     },
     "metadata": {
      "needs_background": "light"
     },
     "output_type": "display_data"
    },
    {
     "data": {
      "image/png": "[encoded data removed]",
      "text/plain": [
       "<Figure size 432x288 with 1 Axes>"
      ]
     },
     "metadata": {
      "needs_background": "light"
     },
     "output_type": "display_data"
    },
    {
     "data": {
      "image/png": "[encoded data removed]",
      "text/plain": [
       "<Figure size 432x288 with 1 Axes>"
      ]
     },
     "metadata": {
      "needs_background": "light"
     },
     "output_type": "display_data"
    },
    {
     "data": {
      "image/png": "[encoded data removed]",
      "text/plain": [
       "<Figure size 432x288 with 1 Axes>"
      ]
     },
     "metadata": {
      "needs_background": "light"
     },
     "output_type": "display_data"
    }
   ],
   "source": [
    "for i in range(len(XX)):\n",
    "    plt.figure()\n",
    "    plt.plot(XX[i], YY[i])\n",
    "    plt.show()"
   ]
  },
  {
   "cell_type": "code",
   "execution_count": 111,
   "metadata": {},
   "outputs": [
    {
     "data": {
      "text/plain": [
       "1"
      ]
     },
     "execution_count": 111,
     "metadata": {},
     "output_type": "execute_result"
    }
   ],
   "source": [
    "len(XX[5])"
   ]
  },
  {
   "cell_type": "code",
   "execution_count": 112,
   "metadata": {},
   "outputs": [],
   "source": [
    "XF = XX[0]\n",
    "YF = YY[0]\n",
    "\n",
    "for i in range(1,4):#len(XX)):\n",
    "    if len(XX[i]) > 1:\n",
    "        XF = np.concatenate((XF,XX[i]), axis = None)\n",
    "        YF = np.concatenate((YF,YY[i] + YF[-1]), axis = None)"
   ]
  },
  {
   "cell_type": "code",
   "execution_count": 120,
   "metadata": {},
   "outputs": [
    {
     "data": {
      "text/html": [
       "<div>\n",
       "<style scoped>\n",
       "    .dataframe tbody tr th:only-of-type {\n",
       "        vertical-align: middle;\n",
       "    }\n",
       "\n",
       "    .dataframe tbody tr th {\n",
       "        vertical-align: top;\n",
       "    }\n",
       "\n",
       "    .dataframe thead th {\n",
       "        text-align: right;\n",
       "    }\n",
       "</style>\n",
       "<table border=\"1\" class=\"dataframe\">\n",
       "  <thead>\n",
       "    <tr style=\"text-align: right;\">\n",
       "      <th></th>\n",
       "      <th>X</th>\n",
       "      <th>Y</th>\n",
       "    </tr>\n",
       "  </thead>\n",
       "  <tbody>\n",
       "    <tr>\n",
       "      <th>0</th>\n",
       "      <td>0.000000</td>\n",
       "      <td>0.000000</td>\n",
       "    </tr>\n",
       "    <tr>\n",
       "      <th>1</th>\n",
       "      <td>0.000000</td>\n",
       "      <td>0.000000</td>\n",
       "    </tr>\n",
       "    <tr>\n",
       "      <th>2</th>\n",
       "      <td>0.061224</td>\n",
       "      <td>-0.757114</td>\n",
       "    </tr>\n",
       "    <tr>\n",
       "      <th>3</th>\n",
       "      <td>0.122449</td>\n",
       "      <td>-1.514229</td>\n",
       "    </tr>\n",
       "    <tr>\n",
       "      <th>4</th>\n",
       "      <td>0.183673</td>\n",
       "      <td>-2.271343</td>\n",
       "    </tr>\n",
       "    <tr>\n",
       "      <th>5</th>\n",
       "      <td>0.244898</td>\n",
       "      <td>-3.028457</td>\n",
       "    </tr>\n",
       "    <tr>\n",
       "      <th>6</th>\n",
       "      <td>0.306122</td>\n",
       "      <td>-3.785571</td>\n",
       "    </tr>\n",
       "    <tr>\n",
       "      <th>7</th>\n",
       "      <td>0.367347</td>\n",
       "      <td>-4.542686</td>\n",
       "    </tr>\n",
       "    <tr>\n",
       "      <th>8</th>\n",
       "      <td>0.428571</td>\n",
       "      <td>-5.299800</td>\n",
       "    </tr>\n",
       "    <tr>\n",
       "      <th>9</th>\n",
       "      <td>0.489796</td>\n",
       "      <td>-6.056914</td>\n",
       "    </tr>\n",
       "    <tr>\n",
       "      <th>10</th>\n",
       "      <td>0.551020</td>\n",
       "      <td>-6.814029</td>\n",
       "    </tr>\n",
       "    <tr>\n",
       "      <th>11</th>\n",
       "      <td>0.612245</td>\n",
       "      <td>-7.571143</td>\n",
       "    </tr>\n",
       "    <tr>\n",
       "      <th>12</th>\n",
       "      <td>0.673469</td>\n",
       "      <td>-8.328257</td>\n",
       "    </tr>\n",
       "    <tr>\n",
       "      <th>13</th>\n",
       "      <td>0.734694</td>\n",
       "      <td>-9.085371</td>\n",
       "    </tr>\n",
       "    <tr>\n",
       "      <th>14</th>\n",
       "      <td>0.795918</td>\n",
       "      <td>-9.842486</td>\n",
       "    </tr>\n",
       "    <tr>\n",
       "      <th>15</th>\n",
       "      <td>0.857143</td>\n",
       "      <td>-10.599600</td>\n",
       "    </tr>\n",
       "    <tr>\n",
       "      <th>16</th>\n",
       "      <td>0.918367</td>\n",
       "      <td>-11.356714</td>\n",
       "    </tr>\n",
       "    <tr>\n",
       "      <th>17</th>\n",
       "      <td>0.979592</td>\n",
       "      <td>-12.113829</td>\n",
       "    </tr>\n",
       "    <tr>\n",
       "      <th>18</th>\n",
       "      <td>1.040816</td>\n",
       "      <td>-12.870943</td>\n",
       "    </tr>\n",
       "    <tr>\n",
       "      <th>19</th>\n",
       "      <td>1.102041</td>\n",
       "      <td>-13.628057</td>\n",
       "    </tr>\n",
       "    <tr>\n",
       "      <th>20</th>\n",
       "      <td>1.163265</td>\n",
       "      <td>-14.385171</td>\n",
       "    </tr>\n",
       "    <tr>\n",
       "      <th>21</th>\n",
       "      <td>1.224490</td>\n",
       "      <td>-15.142286</td>\n",
       "    </tr>\n",
       "    <tr>\n",
       "      <th>22</th>\n",
       "      <td>1.285714</td>\n",
       "      <td>-15.899400</td>\n",
       "    </tr>\n",
       "    <tr>\n",
       "      <th>23</th>\n",
       "      <td>1.346939</td>\n",
       "      <td>-16.656514</td>\n",
       "    </tr>\n",
       "    <tr>\n",
       "      <th>24</th>\n",
       "      <td>1.408163</td>\n",
       "      <td>-17.413629</td>\n",
       "    </tr>\n",
       "    <tr>\n",
       "      <th>25</th>\n",
       "      <td>1.469388</td>\n",
       "      <td>-18.170743</td>\n",
       "    </tr>\n",
       "    <tr>\n",
       "      <th>26</th>\n",
       "      <td>1.530612</td>\n",
       "      <td>-18.927857</td>\n",
       "    </tr>\n",
       "    <tr>\n",
       "      <th>27</th>\n",
       "      <td>1.591837</td>\n",
       "      <td>-19.684971</td>\n",
       "    </tr>\n",
       "    <tr>\n",
       "      <th>28</th>\n",
       "      <td>1.653061</td>\n",
       "      <td>-20.442086</td>\n",
       "    </tr>\n",
       "    <tr>\n",
       "      <th>29</th>\n",
       "      <td>1.714286</td>\n",
       "      <td>-21.199200</td>\n",
       "    </tr>\n",
       "    <tr>\n",
       "      <th>...</th>\n",
       "      <td>...</td>\n",
       "      <td>...</td>\n",
       "    </tr>\n",
       "    <tr>\n",
       "      <th>71</th>\n",
       "      <td>2.040816</td>\n",
       "      <td>-72.539824</td>\n",
       "    </tr>\n",
       "    <tr>\n",
       "      <th>72</th>\n",
       "      <td>2.142857</td>\n",
       "      <td>-74.311886</td>\n",
       "    </tr>\n",
       "    <tr>\n",
       "      <th>73</th>\n",
       "      <td>2.244898</td>\n",
       "      <td>-76.083947</td>\n",
       "    </tr>\n",
       "    <tr>\n",
       "      <th>74</th>\n",
       "      <td>2.346939</td>\n",
       "      <td>-77.856008</td>\n",
       "    </tr>\n",
       "    <tr>\n",
       "      <th>75</th>\n",
       "      <td>2.448980</td>\n",
       "      <td>-79.628069</td>\n",
       "    </tr>\n",
       "    <tr>\n",
       "      <th>76</th>\n",
       "      <td>2.551020</td>\n",
       "      <td>-81.400131</td>\n",
       "    </tr>\n",
       "    <tr>\n",
       "      <th>77</th>\n",
       "      <td>2.653061</td>\n",
       "      <td>-83.172192</td>\n",
       "    </tr>\n",
       "    <tr>\n",
       "      <th>78</th>\n",
       "      <td>2.755102</td>\n",
       "      <td>-84.944253</td>\n",
       "    </tr>\n",
       "    <tr>\n",
       "      <th>79</th>\n",
       "      <td>2.857143</td>\n",
       "      <td>-86.716314</td>\n",
       "    </tr>\n",
       "    <tr>\n",
       "      <th>80</th>\n",
       "      <td>2.959184</td>\n",
       "      <td>-88.488376</td>\n",
       "    </tr>\n",
       "    <tr>\n",
       "      <th>81</th>\n",
       "      <td>3.061224</td>\n",
       "      <td>-90.260437</td>\n",
       "    </tr>\n",
       "    <tr>\n",
       "      <th>82</th>\n",
       "      <td>3.163265</td>\n",
       "      <td>-92.032498</td>\n",
       "    </tr>\n",
       "    <tr>\n",
       "      <th>83</th>\n",
       "      <td>3.265306</td>\n",
       "      <td>-93.804559</td>\n",
       "    </tr>\n",
       "    <tr>\n",
       "      <th>84</th>\n",
       "      <td>3.367347</td>\n",
       "      <td>-95.576620</td>\n",
       "    </tr>\n",
       "    <tr>\n",
       "      <th>85</th>\n",
       "      <td>3.469388</td>\n",
       "      <td>-97.348682</td>\n",
       "    </tr>\n",
       "    <tr>\n",
       "      <th>86</th>\n",
       "      <td>3.571429</td>\n",
       "      <td>-99.120743</td>\n",
       "    </tr>\n",
       "    <tr>\n",
       "      <th>87</th>\n",
       "      <td>3.673469</td>\n",
       "      <td>-100.892804</td>\n",
       "    </tr>\n",
       "    <tr>\n",
       "      <th>88</th>\n",
       "      <td>3.775510</td>\n",
       "      <td>-102.664865</td>\n",
       "    </tr>\n",
       "    <tr>\n",
       "      <th>89</th>\n",
       "      <td>3.877551</td>\n",
       "      <td>-104.436927</td>\n",
       "    </tr>\n",
       "    <tr>\n",
       "      <th>90</th>\n",
       "      <td>3.979592</td>\n",
       "      <td>-106.208988</td>\n",
       "    </tr>\n",
       "    <tr>\n",
       "      <th>91</th>\n",
       "      <td>4.081633</td>\n",
       "      <td>-107.981049</td>\n",
       "    </tr>\n",
       "    <tr>\n",
       "      <th>92</th>\n",
       "      <td>4.183673</td>\n",
       "      <td>-109.753110</td>\n",
       "    </tr>\n",
       "    <tr>\n",
       "      <th>93</th>\n",
       "      <td>4.285714</td>\n",
       "      <td>-111.525171</td>\n",
       "    </tr>\n",
       "    <tr>\n",
       "      <th>94</th>\n",
       "      <td>4.387755</td>\n",
       "      <td>-113.297233</td>\n",
       "    </tr>\n",
       "    <tr>\n",
       "      <th>95</th>\n",
       "      <td>4.489796</td>\n",
       "      <td>-115.069294</td>\n",
       "    </tr>\n",
       "    <tr>\n",
       "      <th>96</th>\n",
       "      <td>4.591837</td>\n",
       "      <td>-116.841355</td>\n",
       "    </tr>\n",
       "    <tr>\n",
       "      <th>97</th>\n",
       "      <td>4.693878</td>\n",
       "      <td>-118.613416</td>\n",
       "    </tr>\n",
       "    <tr>\n",
       "      <th>98</th>\n",
       "      <td>4.795918</td>\n",
       "      <td>-120.385478</td>\n",
       "    </tr>\n",
       "    <tr>\n",
       "      <th>99</th>\n",
       "      <td>4.897959</td>\n",
       "      <td>-122.157539</td>\n",
       "    </tr>\n",
       "    <tr>\n",
       "      <th>100</th>\n",
       "      <td>5.000000</td>\n",
       "      <td>-123.929600</td>\n",
       "    </tr>\n",
       "  </tbody>\n",
       "</table>\n",
       "<p>101 rows × 2 columns</p>\n",
       "</div>"
      ],
      "text/plain": [
       "            X           Y\n",
       "0    0.000000    0.000000\n",
       "1    0.000000    0.000000\n",
       "2    0.061224   -0.757114\n",
       "3    0.122449   -1.514229\n",
       "4    0.183673   -2.271343\n",
       "5    0.244898   -3.028457\n",
       "6    0.306122   -3.785571\n",
       "7    0.367347   -4.542686\n",
       "8    0.428571   -5.299800\n",
       "9    0.489796   -6.056914\n",
       "10   0.551020   -6.814029\n",
       "11   0.612245   -7.571143\n",
       "12   0.673469   -8.328257\n",
       "13   0.734694   -9.085371\n",
       "14   0.795918   -9.842486\n",
       "15   0.857143  -10.599600\n",
       "16   0.918367  -11.356714\n",
       "17   0.979592  -12.113829\n",
       "18   1.040816  -12.870943\n",
       "19   1.102041  -13.628057\n",
       "20   1.163265  -14.385171\n",
       "21   1.224490  -15.142286\n",
       "22   1.285714  -15.899400\n",
       "23   1.346939  -16.656514\n",
       "24   1.408163  -17.413629\n",
       "25   1.469388  -18.170743\n",
       "26   1.530612  -18.927857\n",
       "27   1.591837  -19.684971\n",
       "28   1.653061  -20.442086\n",
       "29   1.714286  -21.199200\n",
       "..        ...         ...\n",
       "71   2.040816  -72.539824\n",
       "72   2.142857  -74.311886\n",
       "73   2.244898  -76.083947\n",
       "74   2.346939  -77.856008\n",
       "75   2.448980  -79.628069\n",
       "76   2.551020  -81.400131\n",
       "77   2.653061  -83.172192\n",
       "78   2.755102  -84.944253\n",
       "79   2.857143  -86.716314\n",
       "80   2.959184  -88.488376\n",
       "81   3.061224  -90.260437\n",
       "82   3.163265  -92.032498\n",
       "83   3.265306  -93.804559\n",
       "84   3.367347  -95.576620\n",
       "85   3.469388  -97.348682\n",
       "86   3.571429  -99.120743\n",
       "87   3.673469 -100.892804\n",
       "88   3.775510 -102.664865\n",
       "89   3.877551 -104.436927\n",
       "90   3.979592 -106.208988\n",
       "91   4.081633 -107.981049\n",
       "92   4.183673 -109.753110\n",
       "93   4.285714 -111.525171\n",
       "94   4.387755 -113.297233\n",
       "95   4.489796 -115.069294\n",
       "96   4.591837 -116.841355\n",
       "97   4.693878 -118.613416\n",
       "98   4.795918 -120.385478\n",
       "99   4.897959 -122.157539\n",
       "100  5.000000 -123.929600\n",
       "\n",
       "[101 rows x 2 columns]"
      ]
     },
     "execution_count": 120,
     "metadata": {},
     "output_type": "execute_result"
    }
   ],
   "source": [
    "Final = pd.DataFrame()\n",
    "Final['X'] = XF\n",
    "Final['Y'] = YF\n",
    "Final"
   ]
  },
  {
   "cell_type": "code",
   "execution_count": 114,
   "metadata": {},
   "outputs": [
    {
     "data": {
      "text/plain": [
       "[0.0,\n",
       " 0.0,\n",
       " 0.06,\n",
       " 0.18,\n",
       " 0.36,\n",
       " 0.6,\n",
       " 0.9099999999999999,\n",
       " 1.2799999999999998,\n",
       " 1.7099999999999997,\n",
       " 2.1999999999999997,\n",
       " 2.75,\n",
       " 3.36,\n",
       " 4.03,\n",
       " 4.76,\n",
       " 5.56,\n",
       " 6.42,\n",
       " 7.34,\n",
       " 8.32,\n",
       " 9.36,\n",
       " 10.459999999999999,\n",
       " 11.62,\n",
       " 12.84,\n",
       " 14.129999999999999,\n",
       " 15.479999999999999,\n",
       " 16.889999999999997,\n",
       " 18.359999999999996,\n",
       " 19.889999999999997,\n",
       " 21.479999999999997,\n",
       " 23.129999999999995,\n",
       " 24.839999999999996,\n",
       " 26.619999999999997,\n",
       " 28.459999999999997,\n",
       " 30.359999999999996,\n",
       " 32.31999999999999,\n",
       " 34.339999999999996,\n",
       " 36.419999999999995,\n",
       " 38.559999999999995,\n",
       " 40.76,\n",
       " 43.03,\n",
       " 45.36,\n",
       " 47.75,\n",
       " 50.2,\n",
       " 52.71,\n",
       " 55.28,\n",
       " 57.910000000000004,\n",
       " 60.6,\n",
       " 63.36,\n",
       " 66.17999999999999,\n",
       " 69.05999999999999,\n",
       " 71.99999999999999,\n",
       " 74.99999999999999,\n",
       " 74.99999999999999,\n",
       " 75.09999999999998,\n",
       " 75.29999999999998,\n",
       " 75.60999999999999,\n",
       " 76.01999999999998,\n",
       " 76.52999999999999,\n",
       " 77.13999999999999,\n",
       " 77.84999999999998,\n",
       " 78.66999999999997,\n",
       " 79.58999999999997,\n",
       " 80.60999999999997,\n",
       " 81.72999999999998,\n",
       " 82.94999999999997,\n",
       " 84.27999999999997,\n",
       " 85.70999999999998,\n",
       " 87.23999999999998,\n",
       " 88.86999999999998,\n",
       " 90.59999999999998,\n",
       " 92.43999999999998,\n",
       " 94.37999999999998,\n",
       " 96.41999999999999,\n",
       " 98.55999999999999,\n",
       " 100.79999999999998,\n",
       " 103.14999999999998,\n",
       " 105.59999999999998,\n",
       " 108.14999999999998,\n",
       " 110.79999999999998,\n",
       " 113.55999999999999,\n",
       " 116.41999999999999,\n",
       " 119.37999999999998,\n",
       " 122.43999999999998,\n",
       " 125.59999999999998,\n",
       " 128.86999999999998,\n",
       " 132.23999999999998,\n",
       " 135.70999999999998,\n",
       " 139.27999999999997,\n",
       " 142.94999999999996,\n",
       " 146.72999999999996,\n",
       " 150.60999999999996,\n",
       " 154.58999999999995,\n",
       " 158.66999999999996,\n",
       " 162.84999999999997,\n",
       " 167.13999999999996,\n",
       " 171.52999999999994,\n",
       " 176.01999999999995,\n",
       " 180.60999999999996,\n",
       " 185.29999999999995,\n",
       " 190.09999999999997,\n",
       " 194.99999999999997,\n",
       " 199.99999999999997]"
      ]
     },
     "execution_count": 114,
     "metadata": {},
     "output_type": "execute_result"
    }
   ],
   "source": [
    "(np.round(XF, decimals=2).cumsum()).tolist()"
   ]
  },
  {
   "cell_type": "code",
   "execution_count": null,
   "metadata": {},
   "outputs": [],
   "source": []
  }
 ],
 "metadata": {
  "kernelspec": {
   "display_name": "Python 3",
   "language": "python",
   "name": "python3"
  },
  "language_info": {
   "codemirror_mode": {
    "name": "ipython",
    "version": 3
   },
   "file_extension": ".py",
   "mimetype": "text/x-python",
   "name": "python",
   "nbconvert_exporter": "python",
   "pygments_lexer": "ipython3",
   "version": "3.7.3"
  }
 },
 "nbformat": 4,
 "nbformat_minor": 2
}
