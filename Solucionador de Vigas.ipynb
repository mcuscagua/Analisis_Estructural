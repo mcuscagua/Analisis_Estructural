{
 "cells": [
  {
   "cell_type": "code",
   "execution_count": 1,
   "metadata": {},
   "outputs": [],
   "source": [
    "import numpy as np\n",
    "import tablas_alphas as tablas"
   ]
  },
  {
   "cell_type": "code",
   "execution_count": 2,
   "metadata": {},
   "outputs": [],
   "source": [
    "class viga():\n",
    "    def __init__(self):\n",
    "        self.tramos = []\n",
    "        \n",
    "    def definir_tramos(self):\n",
    "        aux = True\n",
    "        while aux:\n",
    "            voladizo = input(\"Es un voladizo? \")\n",
    "            empotrado = input(\"Es un empotramiento? \")\n",
    "            tipo_cargas = input(\"Escriba entre corchetes y separados por comas los tipos de cargas del tramo \")\n",
    "            magni_cargas = input(\"Escriba entre corchetes y separados por comas la magnitud de las cargas del tramo \")\n",
    "            Distribucion_Cargas = input(\"Escriba entre corchetes y separados por comas el par: (distancia de la carga al extremo izquierdo, longitud de carga) \")\n",
    "            L = input(\"Cual es la longitud total del tramo \")\n",
    "            \n",
    "            tramo = {\n",
    "                'voladizo': voladizo,\n",
    "                'empotrado': empotrado,\n",
    "                'tipo_cargas': tipo_cargas,\n",
    "                'magni_cargas': magni_cargas,\n",
    "                'Distribucion_Cargas': Distribucion_Cargas,\n",
    "                'L': L\n",
    "            }\n",
    "            \n",
    "            self.tramos.append(tramo)\n",
    "            \n",
    "            mas_tramos = input(\"Hay mas tramos? \")\n",
    "            \n",
    "            if mas_tramos == 'No':\n",
    "                aux = False\n",
    "            \n",
    "    def revisar_viga(self):\n",
    "        revisar_empotramientos\n",
    "        "
   ]
  },
  {
   "cell_type": "code",
   "execution_count": 3,
   "metadata": {},
   "outputs": [],
   "source": [
    "ja = viga()"
   ]
  },
  {
   "cell_type": "code",
   "execution_count": 4,
   "metadata": {},
   "outputs": [
    {
     "data": {
      "text/plain": [
       "[]"
      ]
     },
     "execution_count": 4,
     "metadata": {},
     "output_type": "execute_result"
    }
   ],
   "source": [
    "ja.tramos"
   ]
  },
  {
   "cell_type": "code",
   "execution_count": null,
   "metadata": {},
   "outputs": [
    {
     "name": "stdout",
     "output_type": "stream",
     "text": [
      "Es un voladizo? Si\n",
      "Es un empotramiento? No\n",
      "Escriba entre corchetes y separados por comas los tipos de cargas del tramo [\"Puntual\", \"Distribuida\"]\n",
      "Escriba entre corchetes y separados por comas la magnitud de las cargas del tramo [1,2]\n",
      "Escriba entre corchetes y separados por comas el par: (distancia de la carga al extremo izquierdo, longitud de carga) [(0,0),(0,2)]\n",
      "Cual es la longitud total del tramo 2\n",
      "Hay mas tramos? Si\n",
      "Es un voladizo? No\n",
      "Es un empotramiento? No\n",
      "Escriba entre corchetes y separados por comas los tipos de cargas del tramo [\"Puntual\", \"Distribuida\"]\n",
      "Escriba entre corchetes y separados por comas la magnitud de las cargas del tramo [3,2]\n",
      "Escriba entre corchetes y separados por comas el par: (distancia de la carga al extremo izquierdo, longitud de carga) [(3,0),(3,3)]\n",
      "Cual es la longitud total del tramo 6\n",
      "Hay mas tramos? Si\n",
      "Es un voladizo? No\n",
      "Es un empotramiento? No\n"
     ]
    }
   ],
   "source": [
    "ja.definir_tramos()"
   ]
  },
  {
   "cell_type": "code",
   "execution_count": 17,
   "metadata": {
    "scrolled": true
   },
   "outputs": [
    {
     "data": {
      "text/plain": [
       "[{'voladizo': 'Si',\n",
       "  'tipo_cargas': '[\"Puntual\", \"Distribuida\"]',\n",
       "  'magni_cargas': '[1,2]',\n",
       "  'Distribucion_Cargas': '[(0,0),(0,2)]',\n",
       "  'L': '2'},\n",
       " {'voladizo': 'No',\n",
       "  'tipo_cargas': '[\"Puntual\", \"Distribuida\"]',\n",
       "  'magni_cargas': '[3,2]',\n",
       "  'Distribucion_Cargas': '[(3,0),(3,3)]',\n",
       "  'L': '6'},\n",
       " {'voladizo': 'No',\n",
       "  'tipo_cargas': '[\"Puntual\"]',\n",
       "  'magni_cargas': '[4]',\n",
       "  'Distribucion_Cargas': '[(2,0)]',\n",
       "  'L': '5'},\n",
       " {'voladizo': 'No',\n",
       "  'tipo_cargas': '[\"Distribuida\"]',\n",
       "  'magni_cargas': '[2]',\n",
       "  'Distribucion_Cargas': '[(0,5)]',\n",
       "  'L': '5'}]"
      ]
     },
     "execution_count": 17,
     "metadata": {},
     "output_type": "execute_result"
    }
   ],
   "source": [
    "ja.tramos"
   ]
  },
  {
   "cell_type": "code",
   "execution_count": null,
   "metadata": {},
   "outputs": [],
   "source": []
  }
 ],
 "metadata": {
  "kernelspec": {
   "display_name": "Python 3",
   "language": "python",
   "name": "python3"
  },
  "language_info": {
   "codemirror_mode": {
    "name": "ipython",
    "version": 3
   },
   "file_extension": ".py",
   "mimetype": "text/x-python",
   "name": "python",
   "nbconvert_exporter": "python",
   "pygments_lexer": "ipython3",
   "version": "3.7.3"
  }
 },
 "nbformat": 4,
 "nbformat_minor": 2
}
