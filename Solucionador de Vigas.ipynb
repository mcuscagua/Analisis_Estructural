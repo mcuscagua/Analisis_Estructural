{
 "cells": [
  {
   "cell_type": "code",
   "execution_count": 47,
   "metadata": {},
   "outputs": [],
   "source": [
    "import numpy as np\n",
    "import alphas3Momentos as tablas"
   ]
  },
  {
   "cell_type": "code",
   "execution_count": 11,
   "metadata": {},
   "outputs": [],
   "source": [
    "def calcular_voladizo(tramo, pos_tramo):\n",
    "    M = 0\n",
    "    \n",
    "    for car,caract in tramo['cargas'].items():\n",
    "        \n",
    "        if caract['tipo']  == 'puntual':\n",
    "            if pos_tramo == 0:\n",
    "                M += caract['magnitud'] * (tramo['L'] - caract['distancia'])\n",
    "            else:\n",
    "                M += caract['magnitud'] * (caract['distancia'])\n",
    "                \n",
    "                \n",
    "        if caract['tipo']  == 'distribuida':\n",
    "            if pos_tramo == 0:\n",
    "                M += caract['magnitud'] * caract['longitud'] * (tramo['L'] - 0.5 * caract['longitud'] - caract['distancia'])\n",
    "            else:\n",
    "                M += caract['magnitud'] * caract['longitud'] * (0.5 * caract['longitud'] + caract['distancia'])\n",
    "        \n",
    "        \n",
    "        if caract['tipo']  == 'triangular':\n",
    "            dif = caract['dist_pico'] - caract['distancia']\n",
    "            \n",
    "            if pos_tramo == 0:\n",
    "                if dif > 0:\n",
    "                    M += 0.5 * caract['magnitud'] * caract['longitud'] * (tramo['L'] - caract['distancia'] - 2/3 * caract['longitud'])\n",
    "                else:\n",
    "                    M += 0.5 * caract['magnitud'] * caract['longitud'] * (tramo['L'] - caract['distancia'] - 1/3 * caract['longitud'])\n",
    "            else:\n",
    "                if dif > 0:\n",
    "                    M += 0.5 * caract['magnitud'] * caract['longitud'] * (caract['distancia'] + 2/3 * caract['longitud'])\n",
    "                else:\n",
    "                    M += 0.5 * caract['magnitud'] * caract['longitud'] * (caract['distancia'] + 1/3 * caract['longitud'])\n",
    "                \n",
    "        if caract['tipo']  == 'momento':\n",
    "            \n",
    "            if pos_tramo == 0:\n",
    "                M += -caract['magnitud']\n",
    "            else:\n",
    "                M += caract['magnitud']\n",
    "                \n",
    "        if caract['tipo']  == 'trapesoidal':\n",
    "            dif = caract['dist_mayor'] - caract['dist_menor']\n",
    "            dif_mag = caract['mag_mayor'] - caract['mag_menor']\n",
    "            if pos_tramo == 0:\n",
    "                if dif > 0:\n",
    "                    M += 0.5 * dif_mag * caract['longitud'] * (tramo['L'] - caract['dist_menor'] - 2/3 * caract['longitud'])\n",
    "                    M += caract['mag_menor'] * caract['longitud'] * (tramo['L'] - 0.5 * caract['longitud'] - caract['dist_menor'])\n",
    "                else: \n",
    "                    M += 0.5 * dif_mag * caract['longitud'] * (tramo['L'] - caract['dist_mayor'] - 1/3 * caract['longitud'])\n",
    "                    M += caract['mag_menor'] * caract['longitud'] * (tramo['L'] - 0.5 * caract['longitud'] - caract['dist_mayor'])\n",
    "            else:\n",
    "                if dif > 0:\n",
    "                    M += 0.5 * dif_mag * caract['longitud'] * (caract['dist_menor'] + 2/3 * caract['longitud'])\n",
    "                    M += caract['mag_menor'] * caract['longitud'] * (0.5 * caract['longitud'] + caract['dist_menor'])\n",
    "                else: \n",
    "                    M += 0.5 * dif_mag * caract['longitud'] * (caract['dist_mayor'] + 1/3 * caract['longitud'])\n",
    "                    M += caract['mag_menor'] * caract['longitud'] * (0.5 * caract['longitud'] + caract['dist_mayor'])\n",
    "        \n",
    "    if pos_tramo == 0:\n",
    "        return -M\n",
    "    else:\n",
    "        return M"
   ]
  },
  {
   "cell_type": "code",
   "execution_count": 3,
   "metadata": {},
   "outputs": [],
   "source": [
    "class viga():\n",
    "    def __init__(self):\n",
    "        self.tramos = []        \n",
    "    \n",
    "    def definir_tramos(self):\n",
    "        aux = True\n",
    "        while aux:\n",
    "            voladizo = input(\"Es un voladizo? \")\n",
    "            if voladizo != \"si\":\n",
    "                empotrado = input(\"Es un empotramiento? \")\n",
    "            else:\n",
    "                empotrado = \"no\"\n",
    "                \n",
    "            n_cargas = int(input('Cuantas cargas hay en el tramo? '))\n",
    "            \n",
    "            cargas = {}\n",
    "            \n",
    "            for i in range(n_cargas):\n",
    "                tipo_carga = input(\"Escriba el tipo de la carga \" + str(i+1) + \" \")\n",
    "                \n",
    "                if tipo_carga == \"puntual\":\n",
    "                    \n",
    "                    magnitud = float(input(\"Escriba la magnitud de la carga \"))\n",
    "                    distancia = float(input(\"Escriba la distancia de la carga al extremo izquierdo del tramo \"))\n",
    "                    \n",
    "                    cargas['carga ' + str(i+1)]  = {\n",
    "                        'tipo': tipo_carga,\n",
    "                        'magnitud': magnitud,\n",
    "                        'distancia': distancia\n",
    "                    }\n",
    "                    \n",
    "            \n",
    "                if tipo_carga == \"distribuida\":\n",
    "\n",
    "                    magnitud = float(input(\"Escriba la magnitud de la carga \"))\n",
    "                    distancia = float(input(\"Escriba la distancia de la carga al extremo izquierdo del tramo \"))\n",
    "                    l_carga = float(input(\"Escriba la longitud de la carga \"))\n",
    "\n",
    "                    cargas['carga ' + str(i+1)]  = {\n",
    "                        'tipo': tipo_carga,\n",
    "                        'magnitud': magnitud,\n",
    "                        'distancia': distancia,\n",
    "                        'longitud': l_carga\n",
    "                    }\n",
    "                    \n",
    "                \n",
    "                if tipo_carga == \"triangular\":\n",
    "                    \n",
    "                    magnitud = float(input(\"Escriba la magnitud de la carga \"))\n",
    "                    distancia = float(input(\"Escriba la distancia de la carga al extremo izquierdo del tramo \"))\n",
    "                    dist_pico = float(input(\"Escriba la distancia del pico al extremo izquierdo del tramo \"))\n",
    "                    l_carga = float(input(\"Escriba la longitud de la carga \"))\n",
    "\n",
    "                    cargas['carga ' + str(i+1)]  = {\n",
    "                        'tipo': tipo_carga,\n",
    "                        'magnitud': magnitud,\n",
    "                        'distancia': distancia,\n",
    "                        'dist_pico': dist_pico,\n",
    "                        'longitud': l_carga\n",
    "                    }                    \n",
    "                \n",
    "                if tipo_carga == \"momento\":\n",
    "\n",
    "                    magnitud = float(input(\"Escriba la magnitud de la carga \"))\n",
    "                    distancia = float(input(\"Escriba la distancia de la carga al extremo izquierdo del tramo \"))\n",
    "                    sentido = input(\"Escriba si es sentidio horario o antihorario \")\n",
    "                    \n",
    "                    if sentido == \"horario\":\n",
    "                        magnitud = -magnitud\n",
    "                    \n",
    "                    cargas['carga ' + str(i+1)]  = {\n",
    "                        'tipo': tipo_carga,\n",
    "                        'magnitud': magnitud,\n",
    "                        'distancia': distancia,\n",
    "                        'sentido': sentido\n",
    "                    }\n",
    "\n",
    "                \n",
    "                if tipo_carga == \"trapesoidal\":\n",
    "                    \n",
    "                    magnitud_M = float(input(\"Escriba la magnitud del lado mayor \"))\n",
    "                    distancia = float(input(\"Escriba la distancia de la carga al extremo izquierdo del tramo \"))\n",
    "                    dist_M = float(input(\"Escriba la distancia del lado mayor al extremo izquierdo del tramo \"))\n",
    "                    \n",
    "                    magnitud_m = float(input(\"Escriba la magnitud del lado menor \"))\n",
    "                    dist_m = float(input(\"Escriba la distancia del lado menor al extremo izquierdo del tramo \"))\n",
    "                    \n",
    "                    l_carga = float(input(\"Escriba la longitud de la carga \"))\n",
    "                    \n",
    "                    cargas['carga ' + str(i+1)]  = {\n",
    "                        'tipo': tipo_carga,\n",
    "                        'distancia': distancia,\n",
    "                        'mag_mayor': magnitud_M,\n",
    "                        'dist_mayor': dist_M,\n",
    "                        'mag_menor': magnitud_m,\n",
    "                        'dist_menor': dist_m,\n",
    "                        'l_carga': l_carga\n",
    "                    }\n",
    "                \n",
    "                print(\"----\")\n",
    "     \n",
    "            L = float(input(\"Escriba la longitud del tramo \"))\n",
    "            \n",
    "            tramo = {\n",
    "                'voladizo': voladizo,\n",
    "                'empotrado': empotrado,\n",
    "                'cargas': cargas,\n",
    "                'n_cargas': n_cargas,\n",
    "                'L': L\n",
    "            }\n",
    "            \n",
    "            self.tramos.append(tramo)\n",
    "            \n",
    "            mas_tramos = input(\"Hay mas tramos? \")\n",
    "            \n",
    "            print(\"----\")\n",
    "            print(\"----\")\n",
    "            print(\"\\n\")\n",
    "            \n",
    "            if mas_tramos == 'no':\n",
    "                aux = False\n",
    "        "
   ]
  },
  {
   "cell_type": "code",
   "execution_count": 4,
   "metadata": {},
   "outputs": [],
   "source": [
    "Mi_viga = viga()"
   ]
  },
  {
   "cell_type": "code",
   "execution_count": 5,
   "metadata": {},
   "outputs": [
    {
     "data": {
      "text/plain": [
       "[]"
      ]
     },
     "execution_count": 5,
     "metadata": {},
     "output_type": "execute_result"
    }
   ],
   "source": [
    "Mi_viga.tramos"
   ]
  },
  {
   "cell_type": "code",
   "execution_count": 6,
   "metadata": {
    "scrolled": false
   },
   "outputs": [
    {
     "name": "stdout",
     "output_type": "stream",
     "text": [
      "Es un voladizo? si\n",
      "Cuantas cargas hay en el tramo? 2\n",
      "Escriba el tipo de la carga 1 puntual\n",
      "Escriba la magnitud de la carga 1\n",
      "Escriba la distancia de la carga al extremo izquierdo del tramo 0\n",
      "----\n",
      "Escriba el tipo de la carga 2 distribuida\n",
      "Escriba la magnitud de la carga 2\n",
      "Escriba la distancia de la carga al extremo izquierdo del tramo 0\n",
      "Escriba la longitud de la carga 2\n",
      "----\n",
      "Escriba la longitud del tramo 2\n",
      "Hay mas tramos? si\n",
      "----\n",
      "----\n",
      "\n",
      "\n",
      "Es un voladizo? no\n",
      "Es un empotramiento? no\n",
      "Cuantas cargas hay en el tramo? 2\n",
      "Escriba el tipo de la carga 1 puntual\n",
      "Escriba la magnitud de la carga 3\n",
      "Escriba la distancia de la carga al extremo izquierdo del tramo 3\n",
      "----\n",
      "Escriba el tipo de la carga 2 distribuida\n",
      "Escriba la magnitud de la carga 2\n",
      "Escriba la distancia de la carga al extremo izquierdo del tramo 3\n",
      "Escriba la longitud de la carga 3\n",
      "----\n",
      "Escriba la longitud del tramo 6\n",
      "Hay mas tramos? si\n",
      "----\n",
      "----\n",
      "\n",
      "\n",
      "Es un voladizo? no\n",
      "Es un empotramiento? no\n",
      "Cuantas cargas hay en el tramo? 1\n",
      "Escriba el tipo de la carga 1 puntual\n",
      "Escriba la magnitud de la carga 4\n",
      "Escriba la distancia de la carga al extremo izquierdo del tramo 2\n",
      "----\n",
      "Escriba la longitud del tramo 5\n",
      "Hay mas tramos? si\n",
      "----\n",
      "----\n",
      "\n",
      "\n",
      "Es un voladizo? no\n",
      "Es un empotramiento? no\n",
      "Cuantas cargas hay en el tramo? 1\n",
      "Escriba el tipo de la carga 1 distribuida\n",
      "Escriba la magnitud de la carga 2\n",
      "Escriba la distancia de la carga al extremo izquierdo del tramo 0\n",
      "Escriba la longitud de la carga 5\n",
      "----\n",
      "Escriba la longitud del tramo 5\n",
      "Hay mas tramos? no\n",
      "----\n",
      "----\n",
      "\n",
      "\n"
     ]
    }
   ],
   "source": [
    "Mi_viga.definir_tramos()"
   ]
  },
  {
   "cell_type": "code",
   "execution_count": 7,
   "metadata": {
    "scrolled": false
   },
   "outputs": [
    {
     "data": {
      "text/plain": [
       "[{'voladizo': 'si',\n",
       "  'empotrado': 'no',\n",
       "  'cargas': {'carga 1': {'tipo': 'puntual', 'magnitud': 1.0, 'distancia': 0.0},\n",
       "   'carga 2': {'tipo': 'distribuida',\n",
       "    'magnitud': 2.0,\n",
       "    'distancia': 0.0,\n",
       "    'longitud': 2.0}},\n",
       "  'n_cargas': 2,\n",
       "  'L': 2.0},\n",
       " {'voladizo': 'no',\n",
       "  'empotrado': 'no',\n",
       "  'cargas': {'carga 1': {'tipo': 'puntual', 'magnitud': 3.0, 'distancia': 3.0},\n",
       "   'carga 2': {'tipo': 'distribuida',\n",
       "    'magnitud': 2.0,\n",
       "    'distancia': 3.0,\n",
       "    'longitud': 3.0}},\n",
       "  'n_cargas': 2,\n",
       "  'L': 6.0},\n",
       " {'voladizo': 'no',\n",
       "  'empotrado': 'no',\n",
       "  'cargas': {'carga 1': {'tipo': 'puntual',\n",
       "    'magnitud': 4.0,\n",
       "    'distancia': 2.0}},\n",
       "  'n_cargas': 1,\n",
       "  'L': 5.0},\n",
       " {'voladizo': 'no',\n",
       "  'empotrado': 'no',\n",
       "  'cargas': {'carga 1': {'tipo': 'distribuida',\n",
       "    'magnitud': 2.0,\n",
       "    'distancia': 0.0,\n",
       "    'longitud': 5.0}},\n",
       "  'n_cargas': 1,\n",
       "  'L': 5.0}]"
      ]
     },
     "execution_count": 7,
     "metadata": {},
     "output_type": "execute_result"
    }
   ],
   "source": [
    "Mi_viga.tramos"
   ]
  },
  {
   "cell_type": "code",
   "execution_count": null,
   "metadata": {},
   "outputs": [],
   "source": [
    "def coeficientes_momentos(tramo1, tramo2):\n",
    "    a = tramo1['L']\n",
    "    b = 2 * (tramo1['L'] + tramo2['L'])\n",
    "    c = tramo2['L']\n",
    "    \n",
    "    \n",
    "    "
   ]
  },
  {
   "cell_type": "code",
   "execution_count": 24,
   "metadata": {},
   "outputs": [],
   "source": [
    "tramo1 = Mi_viga.tramos[1]"
   ]
  },
  {
   "cell_type": "code",
   "execution_count": 41,
   "metadata": {},
   "outputs": [
    {
     "data": {
      "text/plain": [
       "{'tipo': 'puntual', 'magnitud': 3.0, 'distancia': 3.0}"
      ]
     },
     "execution_count": 41,
     "metadata": {},
     "output_type": "execute_result"
    }
   ],
   "source": [
    "carac"
   ]
  },
  {
   "cell_type": "code",
   "execution_count": 46,
   "metadata": {},
   "outputs": [
    {
     "ename": "IndentationError",
     "evalue": "expected an indented block (<ipython-input-46-fc5c176c06f9>, line 22)",
     "output_type": "error",
     "traceback": [
      "\u001b[1;36m  File \u001b[1;32m\"<ipython-input-46-fc5c176c06f9>\"\u001b[1;36m, line \u001b[1;32m22\u001b[0m\n\u001b[1;33m    if caract['tipo']  == 'momento':\u001b[0m\n\u001b[1;37m     ^\u001b[0m\n\u001b[1;31mIndentationError\u001b[0m\u001b[1;31m:\u001b[0m expected an indented block\n"
     ]
    }
   ],
   "source": [
    "def calcular_d(tramo1, tramo2):\n",
    "    b1 = 0\n",
    "    b2 = 0\n",
    "    \n",
    "    for car, carac in tramo1['cargas'].items():\n",
    "        \n",
    "        if caract['tipo']  == 'puntual':\n",
    "            _, a2 = tablas.puntual(carac['magnitud'], carac['distancia'], tramo1['L'] - carac['magnitud'], tramo1['L'])\n",
    "            b1 += a2\n",
    "                \n",
    "        if caract['tipo']  == 'distribuida':\n",
    "            if tramo1['L'] == carac['longitud']:\n",
    "                a2 = tablas.distribuida_total(carac['magnitud'], tramo1['L'])\n",
    "                b1 += a2\n",
    "            \n",
    "            if carac['longitud'] == (tramo1['L'] - carac['longitud'] - carac['distancia']):\n",
    "                a2 = tablas.distribuida_media(carac['magnitud'], carac['longitud'], tramo1['L'])\n",
    "                b1 += a2\n",
    "                \n",
    "            else:\n",
    "                a2 = tablas.distribuida_parcial(carac['magnitud'], tramo1['L'], carac['longitud'])\n",
    "                b1 += a2\n",
    "        \n",
    "        if caract['tipo']  == 'triangular':\n",
    "            if tramo1['L'] == carac['longitud'] and tramo1['L'] / 2 == carac['dist_pico']:\n",
    "                a2 += tablas.piram_total(carac['magnitud'], tramo1['L'])\n",
    "                b1 += a2 \n",
    "            \n",
    "            if tramo1['L'] == carac['longitud'] and carac['dist_pico'] == 0:\n",
    "                _, a2 = tablas.triangular_total(carac['magnitud'], tramo1['L'])\n",
    "                b1 += a2\n",
    "            \n",
    "            if tramo1['L'] == carac['longitud'] and carac['dist_pico'] == tramo['L']:\n",
    "                a1, _ = tablas.triangular_total(carac['magnitud'], tramo1['L'])\n",
    "                b1 += a1\n",
    "                \n",
    "            if carac['longitud'] == carac['dist_pico']:\n",
    "                _, a2 = tablas.triangular_punt(carac['magnitud'], carac['distancia'], tramo1['L'])\n",
    "                b1 += a2\n",
    "            \n",
    "             \n",
    "            \n",
    "            \n",
    "                \n",
    "            \n",
    "        if caract['tipo']  == 'momento':\n",
    "            _, a2 = tablas.momento(carac['magnitud'], tramo1['L'], carac['distancia'], tramo1['L'] - carac['distancia'])\n",
    "            b1 += a2\n",
    "                            \n",
    "        if caract['tipo']  == 'trapesoidal':\n",
    "            \n",
    "            b1 += tablas.(carac['magnitud'], tramo1['L'], )\n",
    "            \n",
    "    \n",
    "    return -6 * (b1 + b2)"
   ]
  },
  {
   "cell_type": "code",
   "execution_count": 19,
   "metadata": {},
   "outputs": [
    {
     "data": {
      "text/plain": [
       "[1, 2, 3]"
      ]
     },
     "execution_count": 19,
     "metadata": {},
     "output_type": "execute_result"
    }
   ],
   "source": [
    "[x for x in range(1, tramos)]"
   ]
  },
  {
   "cell_type": "code",
   "execution_count": 16,
   "metadata": {},
   "outputs": [
    {
     "data": {
      "text/plain": [
       "4"
      ]
     },
     "execution_count": 16,
     "metadata": {},
     "output_type": "execute_result"
    }
   ],
   "source": [
    "tramos"
   ]
  },
  {
   "cell_type": "code",
   "execution_count": null,
   "metadata": {},
   "outputs": [],
   "source": [
    "tramos = len(Mi_viga.tramos)\n",
    "\n",
    "t_ini = Mi_viga.tramos[0]\n",
    "t_fin = Mi_viga.tramos[-1]\n",
    "\n",
    "# Caso 1\n",
    "if t_ini['voladizo'] == \"si\" and t_fin['voladizo'] == \"si\":\n",
    "    indices = [x for x in range(1, tramos - 1)]\n",
    "\n",
    "    \n",
    "# Caso 2    \n",
    "if t_ini['voladizo'] == \"si\" and t_fin['voladizo'] == \"no\" and t_fin['empotrado'] == \"no\":\n",
    "    indices = [x for x in range(1, tramos)]\n",
    "\n",
    "    \n",
    "# Caso 3    \n",
    "if t_ini['voladizo'] == \"no\" and t_ini['empotrado'] == \"no\" and t_fin['voladizo'] == \"si\":\n",
    "    indices = [x for x in range(0, tramos - 1)]\n",
    "\n",
    "    \n",
    "# Caso 4    \n",
    "if t_ini['voladizo'] == \"no\" and t_ini['empotrado'] == \"no\" and t_fin['voladizo'] == \"no\" and t_fin['empotrado'] == \"no\":\n",
    "    indices = [x for x in range(0, tramos)]\n",
    "\n",
    "    \n",
    "# Caso 5  -> n+1\n",
    "if t_ini['empotrado'] == \"si\" and t_fin['voladizo'] == \"no\" and t_fin['empotrado'] == \"no\":\n",
    "    indices = [x for x in range(0, tramos)]\n",
    "\n",
    "    \n",
    "# Caso 6   -> n+2\n",
    "if t_ini['empotrado'] == \"si\" and t_fin['empotrado'] == \"si\":\n",
    "    indices = [x for x in range(0, tramos)]\n",
    "\n",
    "    \n",
    "# Caso 7\n",
    "if t_ini['empotrado'] == \"si\" and t_fin['voladizo'] == \"si\":\n",
    "    indices = [x for x in range(0, tramos - 1)]\n",
    "\n",
    "    \n",
    "# Caso 8    \n",
    "if t_ini['voladizo'] == \"si\" and t_fin['empotrado'] == \"si\":\n",
    "    indices = [x for x in range(1, tramos)]\n",
    "\n",
    "    \n",
    "# Caso 9    \n",
    "if t_ini['voladizo'] == \"no\" and t_ini['empotrado'] == \"no\" and t_fin['empotrado'] == \"si\":\n",
    "    indices = [x for x in range(0, tramos)]"
   ]
  },
  {
   "cell_type": "code",
   "execution_count": 8,
   "metadata": {},
   "outputs": [],
   "source": [
    "t_ini = Mi_viga.tramos[0]\n",
    "t_fin = Mi_viga.tramos[-1]"
   ]
  },
  {
   "cell_type": "code",
   "execution_count": 12,
   "metadata": {
    "scrolled": true
   },
   "outputs": [
    {
     "data": {
      "text/plain": [
       "-6.0"
      ]
     },
     "execution_count": 12,
     "metadata": {},
     "output_type": "execute_result"
    }
   ],
   "source": [
    "calcular_voladizo(t_ini,0)"
   ]
  }
 ],
 "metadata": {
  "kernelspec": {
   "display_name": "Python 3",
   "language": "python",
   "name": "python3"
  },
  "language_info": {
   "codemirror_mode": {
    "name": "ipython",
    "version": 3
   },
   "file_extension": ".py",
   "mimetype": "text/x-python",
   "name": "python",
   "nbconvert_exporter": "python",
   "pygments_lexer": "ipython3",
   "version": "3.7.3"
  }
 },
 "nbformat": 4,
 "nbformat_minor": 2
}
