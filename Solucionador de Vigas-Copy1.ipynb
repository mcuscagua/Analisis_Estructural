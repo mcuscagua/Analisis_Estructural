{
 "cells": [
  {
   "cell_type": "code",
   "execution_count": 14,
   "metadata": {},
   "outputs": [],
   "source": [
    "import numpy as np\n",
    "import alphas3Momentos as tablas\n",
    "import Viga\n",
    "import diagramas"
   ]
  },
  {
   "cell_type": "code",
   "execution_count": 2,
   "metadata": {},
   "outputs": [],
   "source": [
    "Mi_viga = Viga.Viga()"
   ]
  },
  {
   "cell_type": "code",
   "execution_count": 3,
   "metadata": {},
   "outputs": [
    {
     "data": {
      "text/plain": [
       "[]"
      ]
     },
     "execution_count": 3,
     "metadata": {},
     "output_type": "execute_result"
    }
   ],
   "source": [
    "Mi_viga.tramos"
   ]
  },
  {
   "cell_type": "code",
   "execution_count": 4,
   "metadata": {
    "scrolled": false
   },
   "outputs": [
    {
     "name": "stdout",
     "output_type": "stream",
     "text": [
      "Es un voladizo? si\n",
      "Cuantas cargas hay en el tramo? 2\n",
      "Escriba el tipo de la carga 1 puntual\n",
      "Escriba la magnitud de la carga 1\n",
      "Escriba la distancia de la carga al extremo izquierdo del tramo 0\n",
      "----\n",
      "Escriba el tipo de la carga 2 distribuida\n",
      "Escriba la magnitud de la carga 2\n",
      "Escriba la distancia de la carga al extremo izquierdo del tramo 0\n",
      "Escriba la longitud de la carga 2\n",
      "----\n",
      "Escriba la longitud del tramo 2\n",
      "Hay mas tramos? si\n",
      "----\n",
      "----\n",
      "\n",
      "\n",
      "Es un voladizo? no\n",
      "Es un empotramiento? no\n",
      "Cuantas cargas hay en el tramo? 2\n",
      "Escriba el tipo de la carga 1 puntual\n",
      "Escriba la magnitud de la carga 3\n",
      "Escriba la distancia de la carga al extremo izquierdo del tramo 3\n",
      "----\n",
      "Escriba el tipo de la carga 2 distribuida\n",
      "Escriba la magnitud de la carga 2\n",
      "Escriba la distancia de la carga al extremo izquierdo del tramo 3\n",
      "Escriba la longitud de la carga 3\n",
      "----\n",
      "Escriba la longitud del tramo 6\n",
      "Hay mas tramos? si\n",
      "----\n",
      "----\n",
      "\n",
      "\n",
      "Es un voladizo? no\n",
      "Es un empotramiento? no\n",
      "Cuantas cargas hay en el tramo? 1\n",
      "Escriba el tipo de la carga 1 puntual\n",
      "Escriba la magnitud de la carga 4\n",
      "Escriba la distancia de la carga al extremo izquierdo del tramo 2\n",
      "----\n",
      "Escriba la longitud del tramo 5\n",
      "Hay mas tramos? si\n",
      "----\n",
      "----\n",
      "\n",
      "\n",
      "Es un voladizo? no\n",
      "Es un empotramiento? no\n",
      "Cuantas cargas hay en el tramo? 1\n",
      "Escriba el tipo de la carga 1 distribuida\n",
      "Escriba la magnitud de la carga 2\n",
      "Escriba la distancia de la carga al extremo izquierdo del tramo 0\n",
      "Escriba la longitud de la carga 5\n",
      "----\n",
      "Escriba la longitud del tramo 5\n",
      "Hay mas tramos? no\n",
      "----\n",
      "----\n",
      "\n",
      "\n"
     ]
    }
   ],
   "source": [
    "Mi_viga.definir_tramos()"
   ]
  },
  {
   "cell_type": "code",
   "execution_count": 8,
   "metadata": {
    "scrolled": false
   },
   "outputs": [
    {
     "data": {
      "text/plain": [
       "[{'voladizo': 'si',\n",
       "  'empotrado': 'no',\n",
       "  'cargas': {'carga 1': {'tipo': 'puntual', 'magnitud': 1.0, 'distancia': 0.0},\n",
       "   'carga 2': {'tipo': 'distribuida',\n",
       "    'magnitud': 2.0,\n",
       "    'distancia': 0.0,\n",
       "    'longitud': 2.0}},\n",
       "  'n_cargas': 2,\n",
       "  'L': 2.0},\n",
       " {'voladizo': 'no',\n",
       "  'empotrado': 'no',\n",
       "  'cargas': {'carga 1': {'tipo': 'puntual', 'magnitud': 3.0, 'distancia': 3.0},\n",
       "   'carga 2': {'tipo': 'distribuida',\n",
       "    'magnitud': 2.0,\n",
       "    'distancia': 3.0,\n",
       "    'longitud': 3.0}},\n",
       "  'n_cargas': 2,\n",
       "  'L': 6.0},\n",
       " {'voladizo': 'no',\n",
       "  'empotrado': 'no',\n",
       "  'cargas': {'carga 1': {'tipo': 'puntual',\n",
       "    'magnitud': 4.0,\n",
       "    'distancia': 2.0}},\n",
       "  'n_cargas': 1,\n",
       "  'L': 5.0},\n",
       " {'voladizo': 'no',\n",
       "  'empotrado': 'no',\n",
       "  'cargas': {'carga 1': {'tipo': 'distribuida',\n",
       "    'magnitud': 2.0,\n",
       "    'distancia': 0.0,\n",
       "    'longitud': 5.0}},\n",
       "  'n_cargas': 1,\n",
       "  'L': 5.0}]"
      ]
     },
     "execution_count": 8,
     "metadata": {},
     "output_type": "execute_result"
    }
   ],
   "source": [
    "Tramos = Mi_viga.tramos\n",
    "Tramos"
   ]
  },
  {
   "cell_type": "code",
   "execution_count": 9,
   "metadata": {},
   "outputs": [
    {
     "data": {
      "text/plain": [
       "[0, -6.0, -3.837349397590361, -3.845662650602409, 0]"
      ]
     },
     "execution_count": 9,
     "metadata": {},
     "output_type": "execute_result"
    }
   ],
   "source": [
    "momentos = Viga.calcular_momentos(Tramos)\n",
    "momentos"
   ]
  },
  {
   "cell_type": "code",
   "execution_count": 11,
   "metadata": {
    "scrolled": false
   },
   "outputs": [
    {
     "data": {
      "text/plain": [
       "array([8.36044177, 8.03789558, 7.37079518, 4.23086747])"
      ]
     },
     "execution_count": 11,
     "metadata": {},
     "output_type": "execute_result"
    }
   ],
   "source": [
    "Rs = Viga.obtener_Rs(Tramos, momentos)\n",
    "Rs"
   ]
  },
  {
   "cell_type": "code",
   "execution_count": 13,
   "metadata": {
    "scrolled": false
   },
   "outputs": [
    {
     "name": "stdout",
     "output_type": "stream",
     "text": [
      "Escriba el tipo de la carga/reaccion 1: puntual\n",
      "Escriba la magnitud de la carga/reaccion: 1\n",
      "Escriba la longitud de la carga/reaccion: 0\n",
      "Hay mas trozos?: si\n",
      "\n",
      "\n",
      "Escriba el tipo de la carga/reaccion 2: distribuida\n",
      "Escriba la magnitud de la carga/reaccion: 2\n",
      "Escriba la longitud de la carga/reaccion: 2\n",
      "Hay mas trozos?: si\n",
      "\n",
      "\n",
      "Escriba el tipo de la carga/reaccion 3: reaccion\n",
      "Escriba la magnitud de la carga/reaccion: 8.361\n",
      "Escriba la longitud de la carga/reaccion: 0\n",
      "Hay mas trozos?: si\n",
      "\n",
      "\n",
      "Escriba el tipo de la carga/reaccion 4: nada\n",
      "Escriba la magnitud de la carga/reaccion: 0\n",
      "Escriba la longitud de la carga/reaccion: 3\n",
      "Hay mas trozos?: si\n",
      "\n",
      "\n",
      "Escriba el tipo de la carga/reaccion 5: puntual\n",
      "Escriba la magnitud de la carga/reaccion: 3\n",
      "Escriba la longitud de la carga/reaccion: 0\n",
      "Hay mas trozos?: si\n",
      "\n",
      "\n",
      "Escriba el tipo de la carga/reaccion 6: distribuida\n",
      "Escriba la magnitud de la carga/reaccion: 2\n",
      "Escriba la longitud de la carga/reaccion: 3\n",
      "Hay mas trozos?: si\n",
      "\n",
      "\n",
      "Escriba el tipo de la carga/reaccion 7: reaccion\n",
      "Escriba la magnitud de la carga/reaccion: 8.038\n",
      "Escriba la longitud de la carga/reaccion: 0\n",
      "Hay mas trozos?: si\n",
      "\n",
      "\n",
      "Escriba el tipo de la carga/reaccion 8: nada\n",
      "Escriba la magnitud de la carga/reaccion: 0\n",
      "Escriba la longitud de la carga/reaccion: 2\n",
      "Hay mas trozos?: si\n",
      "\n",
      "\n",
      "Escriba el tipo de la carga/reaccion 9: puntual\n",
      "Escriba la magnitud de la carga/reaccion: 4\n",
      "Escriba la longitud de la carga/reaccion: 0\n",
      "Hay mas trozos?: si\n",
      "\n",
      "\n",
      "Escriba el tipo de la carga/reaccion 10: nada\n",
      "Escriba la magnitud de la carga/reaccion: 0\n",
      "Escriba la longitud de la carga/reaccion: 3\n",
      "Hay mas trozos?: reaccion\n",
      "\n",
      "\n",
      "Escriba el tipo de la carga/reaccion 11: 7.371\n",
      "Escriba la magnitud de la carga/reaccion: 0\n",
      "Escriba la longitud de la carga/reaccion: si\n"
     ]
    },
    {
     "ename": "ValueError",
     "evalue": "could not convert string to float: 'si'",
     "output_type": "error",
     "traceback": [
      "\u001b[1;31m---------------------------------------------------------------------------\u001b[0m",
      "\u001b[1;31mValueError\u001b[0m                                Traceback (most recent call last)",
      "\u001b[1;32m<ipython-input-13-3aaa4b5ab799>\u001b[0m in \u001b[0;36m<module>\u001b[1;34m\u001b[0m\n\u001b[1;32m----> 1\u001b[1;33m \u001b[0mGraficas\u001b[0m \u001b[1;33m=\u001b[0m \u001b[0mgraficador\u001b[0m\u001b[1;33m(\u001b[0m\u001b[1;33m)\u001b[0m\u001b[1;33m\u001b[0m\u001b[1;33m\u001b[0m\u001b[0m\n\u001b[0m",
      "\u001b[1;32mD:\\Analisis_Estructural\\diagramas.py\u001b[0m in \u001b[0;36m__init__\u001b[1;34m(self)\u001b[0m\n\u001b[0;32m     14\u001b[0m             \u001b[0mself\u001b[0m\u001b[1;33m.\u001b[0m\u001b[0mtipo\u001b[0m\u001b[1;33m.\u001b[0m\u001b[0mappend\u001b[0m\u001b[1;33m(\u001b[0m\u001b[0minput\u001b[0m\u001b[1;33m(\u001b[0m\u001b[1;34m\"Escriba el tipo de la carga/reaccion \"\u001b[0m \u001b[1;33m+\u001b[0m \u001b[0mstr\u001b[0m\u001b[1;33m(\u001b[0m\u001b[0mi\u001b[0m \u001b[1;33m+\u001b[0m \u001b[1;36m1\u001b[0m\u001b[1;33m)\u001b[0m \u001b[1;33m+\u001b[0m \u001b[1;34m\": \"\u001b[0m\u001b[1;33m)\u001b[0m\u001b[1;33m)\u001b[0m\u001b[1;33m\u001b[0m\u001b[1;33m\u001b[0m\u001b[0m\n\u001b[0;32m     15\u001b[0m             \u001b[0mself\u001b[0m\u001b[1;33m.\u001b[0m\u001b[0mmagnitud\u001b[0m\u001b[1;33m.\u001b[0m\u001b[0mappend\u001b[0m\u001b[1;33m(\u001b[0m\u001b[0mfloat\u001b[0m\u001b[1;33m(\u001b[0m\u001b[0minput\u001b[0m\u001b[1;33m(\u001b[0m\u001b[1;34m\"Escriba la magnitud de la carga/reaccion: \"\u001b[0m\u001b[1;33m)\u001b[0m\u001b[1;33m)\u001b[0m\u001b[1;33m)\u001b[0m\u001b[1;33m\u001b[0m\u001b[1;33m\u001b[0m\u001b[0m\n\u001b[1;32m---> 16\u001b[1;33m             \u001b[0mself\u001b[0m\u001b[1;33m.\u001b[0m\u001b[0mlongitud\u001b[0m\u001b[1;33m.\u001b[0m\u001b[0mappend\u001b[0m\u001b[1;33m(\u001b[0m\u001b[0mfloat\u001b[0m\u001b[1;33m(\u001b[0m\u001b[0minput\u001b[0m\u001b[1;33m(\u001b[0m\u001b[1;34m\"Escriba la longitud de la carga/reaccion: \"\u001b[0m\u001b[1;33m)\u001b[0m\u001b[1;33m)\u001b[0m\u001b[1;33m)\u001b[0m\u001b[1;33m\u001b[0m\u001b[1;33m\u001b[0m\u001b[0m\n\u001b[0m\u001b[0;32m     17\u001b[0m \u001b[1;33m\u001b[0m\u001b[0m\n\u001b[0;32m     18\u001b[0m             \u001b[0mmas_pedazos\u001b[0m \u001b[1;33m=\u001b[0m \u001b[0minput\u001b[0m\u001b[1;33m(\u001b[0m\u001b[1;34m\"Hay mas trozos?: \"\u001b[0m\u001b[1;33m)\u001b[0m\u001b[1;33m\u001b[0m\u001b[1;33m\u001b[0m\u001b[0m\n",
      "\u001b[1;31mValueError\u001b[0m: could not convert string to float: 'si'"
     ]
    }
   ],
   "source": [
    "Graficas = graficador()"
   ]
  },
  {
   "cell_type": "code",
   "execution_count": 263,
   "metadata": {},
   "outputs": [],
   "source": [
    "Graficas."
   ]
  },
  {
   "cell_type": "code",
   "execution_count": 264,
   "metadata": {},
   "outputs": [
    {
     "data": {
      "text/plain": [
       "[0, 0.0, 2.0, 2.0, 5.0, 5.0, 8.0, 8.0, 10.0, 10.0, 13.0, 13.0, 18.0, 18.0]"
      ]
     },
     "execution_count": 264,
     "metadata": {},
     "output_type": "execute_result"
    }
   ],
   "source": [
    "X"
   ]
  },
  {
   "cell_type": "code",
   "execution_count": 265,
   "metadata": {},
   "outputs": [
    {
     "data": {
      "text/plain": [
       "[0,\n",
       " -1.0,\n",
       " -5.0,\n",
       " 3.3610000000000007,\n",
       " 3.3610000000000007,\n",
       " 0.36100000000000065,\n",
       " -5.638999999999999,\n",
       " 2.399000000000001,\n",
       " 2.399000000000001,\n",
       " -1.600999999999999,\n",
       " -1.600999999999999,\n",
       " 5.770000000000001,\n",
       " -4.229999999999999,\n",
       " 0.0010000000000012221]"
      ]
     },
     "execution_count": 265,
     "metadata": {},
     "output_type": "execute_result"
    }
   ],
   "source": [
    "Y"
   ]
  },
  {
   "cell_type": "code",
   "execution_count": 266,
   "metadata": {},
   "outputs": [
    {
     "data": {
      "image/png": "[encoded data removed]",
      "text/plain": [
       "<Figure size 432x288 with 1 Axes>"
      ]
     },
     "metadata": {
      "needs_background": "light"
     },
     "output_type": "display_data"
    }
   ],
   "source": []
  },
  {
   "cell_type": "code",
   "execution_count": null,
   "metadata": {},
   "outputs": [],
   "source": []
  },
  {
   "cell_type": "code",
   "execution_count": null,
   "metadata": {},
   "outputs": [],
   "source": []
  }
 ],
 "metadata": {
  "kernelspec": {
   "display_name": "Python 3",
   "language": "python",
   "name": "python3"
  },
  "language_info": {
   "codemirror_mode": {
    "name": "ipython",
    "version": 3
   },
   "file_extension": ".py",
   "mimetype": "text/x-python",
   "name": "python",
   "nbconvert_exporter": "python",
   "pygments_lexer": "ipython3",
   "version": "3.7.3"
  }
 },
 "nbformat": 4,
 "nbformat_minor": 2
}
